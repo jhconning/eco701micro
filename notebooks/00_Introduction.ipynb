{
 "cells": [
  {
   "cell_type": "markdown",
   "metadata": {
    "slideshow": {
     "slide_type": "slide"
    }
   },
   "source": [
    "\n",
    "\n",
    "\n",
    "# ECO 701: Microeconomic Theory, Fall 2017\n",
    "\n",
    "## Jonathan Conning"
   ]
  },
  {
   "cell_type": "markdown",
   "metadata": {
    "slideshow": {
     "slide_type": "slide"
    }
   },
   "source": [
    "**Office Hours: HW1504A\n",
    "After class, Tue, Wed 11-12pm and by appt.**\n",
    "\n",
    "jonathan.conning+701@gmail.com\n",
    "\n",
    "**Teaching Assistant:** TBA"
   ]
  },
  {
   "cell_type": "markdown",
   "metadata": {
    "collapsed": true,
    "slideshow": {
     "slide_type": "slide"
    }
   },
   "source": [
    "## Textbook\n",
    "**Nicholson & Snyder, *Microeconomic Theory: Basic Principles and Extensions*.**   11th edition (10th acceptable).\n",
    "<img src=\"https://images-na.ssl-images-amazon.com/images/I/41pxoVIgGaL._SX398_BO1,204,203,200_.jpg\" alt=\"Drawing\" style=\"width: 300px;\"/>"
   ]
  },
  {
   "cell_type": "markdown",
   "metadata": {
    "slideshow": {
     "slide_type": "slide"
    }
   },
   "source": [
    "### Jupyter notebook materials\n",
    "  - These lecture slides, problem sets and other handouts prepared as Jupyter notebooks "
   ]
  },
  {
   "cell_type": "markdown",
   "metadata": {
    "slideshow": {
     "slide_type": "fragment"
    }
   },
   "source": [
    "  - Cells use markdown for text and math and python (or other language) code for interactive simulations and visualizations."
   ]
  },
  {
   "cell_type": "markdown",
   "metadata": {
    "slideshow": {
     "slide_type": "subslide"
    }
   },
   "source": [
    "  - Notebooks can be rendered in different formats. Depending on how you access, you may be viewing:\n",
    "     - Interactive notebook (.ipynb) that can be viewed an modified on jupyter server on own computer or cloud. Interactive widgets work.\n",
    "     - Static HTML or PDF rendering. Cannot edit and interactive widgets do not work or display.\n",
    "     - Slideshow from notebook displays only pre-selected cells. May be static or interactive (alt-r)"
   ]
  },
  {
   "cell_type": "markdown",
   "metadata": {
    "slideshow": {
     "slide_type": "subslide"
    }
   },
   "source": [
    "  - Promising but still evolving technology, so this is an experiment ! \n",
    "    - Please suggest ways to improve content and user experience."
   ]
  },
  {
   "cell_type": "markdown",
   "metadata": {
    "slideshow": {
     "slide_type": "subslide"
    }
   },
   "source": [
    "### The Eco 701 notebook library\n",
    "  - class notebooks stored in a library on Microsoft's Azure Notebooks server, a free cloud server: [notebooks.azure.com/jhconning/libraries/eco701](https://notebooks.azure.com/jhconning/libraries/eco701)  \n",
    "    - Follow link create account/login to view notebooks/slideshows. \n",
    "    - 'Clone' library to your own account if you wish to interact/modify notebooks or download to own machine if you have local  jupyter notebooks and python installation.\n",
    "\n",
    "- [Eco 701 repository] on github also has content and will be used for issue tracking (i.e.your post corrections/suggestions welcomed here)."
   ]
  },
  {
   "cell_type": "markdown",
   "metadata": {
    "slideshow": {
     "slide_type": "fragment"
    }
   },
   "source": [
    "  - You are encouraged but not required to use Jupyter notebooks interactively.\n",
    "  - Many good intros for learning to use jupyter and python including [on Azure](https://notebooks.azure.com/Microsoft/libraries/samples/html/Introduction%20to%20Python.ipynb) and at the [Quantecon project](https://lectures.quantecon.org/py/)"
   ]
  },
  {
   "cell_type": "markdown",
   "metadata": {
    "slideshow": {
     "slide_type": "subslide"
    }
   },
   "source": [
    "- ### Blackboard or google classroom \n",
    "     - for communications and grades"
   ]
  },
  {
   "cell_type": "markdown",
   "metadata": {
    "slideshow": {
     "slide_type": "slide"
    }
   },
   "source": [
    "# Course Grading\n",
    "  - ## 25% Problem sets/participation\t \n",
    "  - ## 45% higher of midterm or final\n",
    "  - ## 30% lower of midterm or final\n",
    "      - **Final:** TBA \n",
    "      - **Midterm:** TBA "
   ]
  },
  {
   "cell_type": "markdown",
   "metadata": {
    "slideshow": {
     "slide_type": "fragment"
    }
   },
   "source": [
    "### Problem sets\n",
    " - Usually 4 in the semester. ~ 2 weeks to complete\n",
    " - Can work in groups but you must write up your own answers."
   ]
  },
  {
   "cell_type": "markdown",
   "metadata": {
    "slideshow": {
     "slide_type": "fragment"
    }
   },
   "source": [
    "There are just 12 lecture sessions (excluding midterm), so problem sets and outside reading are important."
   ]
  },
  {
   "cell_type": "markdown",
   "metadata": {
    "slideshow": {
     "slide_type": "slide"
    }
   },
   "source": [
    "# What are the questions?"
   ]
  },
  {
   "cell_type": "markdown",
   "metadata": {
    "slideshow": {
     "slide_type": "slide"
    }
   },
   "source": [
    "## How do individuals and societies allocate resources? \n",
    "## What are the alternatives?\n"
   ]
  },
  {
   "cell_type": "markdown",
   "metadata": {
    "slideshow": {
     "slide_type": "fragment"
    }
   },
   "source": [
    " - Far more than the study of demand and supply choices in ‘markets’  \n",
    " - how do agents (individuals, households, firms, groups) choose to associate and contract and the rules of the game they play by. \n",
    "   - strategies, contracts, organizations, property rights, institutions and policy. Supply and demand decisions.\n",
    "   - Judging outcomes: Conflict or cooperation?  Efficient, equitable, just?"
   ]
  },
  {
   "cell_type": "markdown",
   "metadata": {
    "slideshow": {
     "slide_type": "slide"
    }
   },
   "source": [
    "## Methods and Assumptions\n",
    " - Methodological individualism  and instrumental rationality\n",
    " - Optimization subject to constraints and marginal analysis\n",
    " - Feedback, interactions and equilibrium\n",
    " - *Ceteribus paribus* and 'what-if' comparative statics\n",
    " - Modern challenges to behavioral and other assumptions\n",
    " - Theory and Evidence"
   ]
  },
  {
   "cell_type": "markdown",
   "metadata": {
    "slideshow": {
     "slide_type": "slide"
    }
   },
   "source": [
    "## What is neo-classical economics ... and why bother with it?\n",
    "\n",
    "Paul Krugman ([8/28/12](https://krugman.blogs.nytimes.com/2012/08/28/neo-fights-slightly-wonkish-and-vague/?mcubz=0&_r=0)):\n",
    "\n",
    ">... maximization-with-equilibrium. We imagine an economy consisting of rational, self-interested players, and suppose that economic outcomes reflect a situation in which each player is doing the best he, she, or it can given the actions of all the other players. If nobody has market power, this comes down to the textbook picture of perfectly competitive markets with all the marginal whatevers equal."
   ]
  },
  {
   "cell_type": "markdown",
   "metadata": {
    "slideshow": {
     "slide_type": "subslide"
    }
   },
   "source": [
    ">... Some economists really really believe that life is like this — and they have a significant impact on our discourse. \n",
    "\n",
    "> But the rest of us are well aware that this is nothing but a metaphor! [we take]... the maximization-and-equilibrium world as a starting point or baseline, which is then modified — but not too much — in the direction of realism.\n"
   ]
  },
  {
   "cell_type": "markdown",
   "metadata": {
    "slideshow": {
     "slide_type": "slide"
    }
   },
   "source": [
    "## Mathematical Preliminaries"
   ]
  },
  {
   "cell_type": "markdown",
   "metadata": {
    "slideshow": {
     "slide_type": "slide"
    }
   },
   "source": [
    "### (brief note on Jupyter notebooks)\n",
    "\n",
    "Jupyter notebooks are made up of cells that are either markdown cells or code cells.  A Jupyter slideshow is typically created by marking many code cells to be 'skipped' in order to not clutter the presentation. \n",
    "\n",
    "I'd typically hide a code cell like the following, but will reveal it here to illustrate how we are importing additional python libraries to extend the standard python library.  matplotlib and numpy are for plotting and matrix algebra. "
   ]
  },
  {
   "cell_type": "code",
   "execution_count": 2,
   "metadata": {
    "collapsed": true,
    "slideshow": {
     "slide_type": "-"
    }
   },
   "outputs": [],
   "source": [
    "import numpy as np\n",
    "import matplotlib.pyplot as plt\n",
    "%matplotlib inline"
   ]
  },
  {
   "cell_type": "markdown",
   "metadata": {
    "slideshow": {
     "slide_type": "slide"
    }
   },
   "source": [
    "## Calculus for Optimization"
   ]
  },
  {
   "cell_type": "markdown",
   "metadata": {
    "slideshow": {
     "slide_type": "fragment"
    }
   },
   "source": [
    "Cost function: $$C(q) = F + q^2$$\n",
    "\n",
    "Profit function: \n",
    "\\begin{align}\n",
    " \\Pi(q) & = P \\cdot q - C(q)  \\\\\n",
    "        &= P\\cdot q - A - q^2 \n",
    "\\end{align}\n"
   ]
  },
  {
   "cell_type": "markdown",
   "metadata": {
    "slideshow": {
     "slide_type": "fragment"
    }
   },
   "source": [
    "First-order necessary condition: $\\frac{d\\Pi}{dq} = P - 2q = 0$\n",
    "\n",
    "Solve for $q$:  $q^* =\\frac{P}{2} $\n",
    "\n",
    "Profit maximizing output level is independent of fixed cost $F$ "
   ]
  },
  {
   "cell_type": "code",
   "execution_count": 19,
   "metadata": {
    "collapsed": true,
    "slideshow": {
     "slide_type": "skip"
    }
   },
   "outputs": [],
   "source": [
    "F = 10\n",
    "P = 10\n",
    "\n",
    "def C(q, F=F):\n",
    "    return F + q**2\n",
    "\n",
    "def profit(q, P=P, F=F):\n",
    "    return P*q - C(q, F)\n",
    "\n",
    "def opt(P, F):\n",
    "    return P/2, profit(P/2, P, F)\n",
    "\n",
    "q = np.linspace(0,10,20)"
   ]
  },
  {
   "cell_type": "code",
   "execution_count": 21,
   "metadata": {
    "slideshow": {
     "slide_type": "slide"
    }
   },
   "outputs": [
    {
     "data": {
      "image/png": "[encoded data removed]",
      "text/plain": [
       "<matplotlib.figure.Figure at 0x7f5ab9808240>"
      ]
     },
     "metadata": {},
     "output_type": "display_data"
    }
   ],
   "source": [
    "qe, pre = opt(P,F)\n",
    "plt.figure(figsize=(8,8))\n",
    "plt.plot(q, profit(q))\n",
    "plt.axvline(qe)\n",
    "plt.axhline(0);"
   ]
  },
  {
   "cell_type": "code",
   "execution_count": 11,
   "metadata": {
    "slideshow": {
     "slide_type": "skip"
    }
   },
   "outputs": [
    {
     "data": {
      "text/html": [
       "\n",
       "<style>\n",
       ".output_png {\n",
       "    display: table-cell;\n",
       "    text-align: center;\n",
       "    vertical-align: middle;\n",
       "}\n",
       "</style>\n"
      ],
      "text/plain": [
       "<IPython.core.display.HTML object>"
      ]
     },
     "execution_count": 11,
     "metadata": {},
     "output_type": "execute_result"
    }
   ],
   "source": [
    "# Once this code cell is run the plots will be centered on page\n",
    "from IPython.core.display import HTML\n",
    "HTML(\"\"\"\n",
    "<style>\n",
    ".output_png {\n",
    "    display: table-cell;\n",
    "    text-align: center;\n",
    "    vertical-align: middle;\n",
    "}\n",
    "</style>\n",
    "\"\"\")"
   ]
  },
  {
   "cell_type": "markdown",
   "metadata": {
    "slideshow": {
     "slide_type": "slide"
    }
   },
   "source": [
    "# Constrained Optimization\n",
    "## Analytical and numerical approaches\n"
   ]
  },
  {
   "cell_type": "code",
   "execution_count": 1,
   "metadata": {
    "collapsed": true,
    "slideshow": {
     "slide_type": "skip"
    }
   },
   "outputs": [],
   "source": [
    "%matplotlib inline\n",
    "import matplotlib.pyplot as plt\n",
    "plt.style.use('seaborn-whitegrid')\n",
    "import numpy as np\n",
    "from scipy.optimize import minimize\n",
    "\n",
    "from mpl_toolkits.mplot3d import *\n",
    "from matplotlib import cm\n",
    "from ipywidgets import interact"
   ]
  },
  {
   "cell_type": "markdown",
   "metadata": {
    "slideshow": {
     "slide_type": "slide"
    }
   },
   "source": [
    "### Consumer's optimization problem:\n",
    "\n",
    "$$\\max_{x_0,x_1} U(x_0,x_1) $$\n",
    "\n",
    "subject to a budget constraint\n",
    "\n",
    "$$p x_0 + x_1 \\leq I $$"
   ]
  },
  {
   "cell_type": "markdown",
   "metadata": {
    "slideshow": {
     "slide_type": "fragment"
    }
   },
   "source": [
    "where $p=\\frac{p_{0}}{p_{1}}$"
   ]
  },
  {
   "cell_type": "markdown",
   "metadata": {
    "slideshow": {
     "slide_type": "skip"
    }
   },
   "source": [
    "Let's make some parameter assumptions for the default examples and diagrams below."
   ]
  },
  {
   "cell_type": "code",
   "execution_count": 2,
   "metadata": {
    "collapsed": true,
    "slideshow": {
     "slide_type": "skip"
    }
   },
   "outputs": [],
   "source": [
    "alpha = 0.6\n",
    "p = 1\n",
    "I = 100"
   ]
  },
  {
   "cell_type": "markdown",
   "metadata": {
    "slideshow": {
     "slide_type": "skip"
    }
   },
   "source": [
    "Now define the utility function and budget constraint"
   ]
  },
  {
   "cell_type": "code",
   "execution_count": 3,
   "metadata": {
    "collapsed": true,
    "slideshow": {
     "slide_type": "subslide"
    }
   },
   "outputs": [],
   "source": [
    "# useful for plots and calculations\n",
    "def budgetc(c0, p, I):\n",
    "    '''c1 as a function of c0 along budget line'''\n",
    "    return I - p*c0\n",
    "\n",
    "def U(c, a=alpha):\n",
    "    '''Utility at c=(c[0], c[1])'''\n",
    "    return (c[0]**a)*(c[1]**(1-a))\n",
    "\n",
    "def MU0(c, a=alpha):\n",
    "    '''MU of Cobb-Douglas'''\n",
    "    return  a*U(c,a)/c[0] \n",
    "\n",
    "def MU1(c, a=alpha):\n",
    "    return  (1-a)*U(c,a)/c[1]\n",
    "\n",
    "def indif(c0, ubar, a=alpha):\n",
    "    '''c1 as function of c0, implicitly defined by U(c0, c1) = ubar'''\n",
    "    return (ubar/(c0**a))**(1/(1-a))"
   ]
  },
  {
   "cell_type": "code",
   "execution_count": 4,
   "metadata": {
    "collapsed": true,
    "slideshow": {
     "slide_type": "skip"
    }
   },
   "outputs": [],
   "source": [
    "def acopt(p,I,a =alpha):\n",
    "    '''Analytic solution for interior optimum'''\n",
    "    c0 = a * I/p\n",
    "    c1 = (1-a)*I\n",
    "    c = [c0,c1]\n",
    "    uopt = U(c,a)\n",
    "    return c, uopt"
   ]
  },
  {
   "cell_type": "code",
   "execution_count": 5,
   "metadata": {
    "collapsed": true,
    "slideshow": {
     "slide_type": "skip"
    }
   },
   "outputs": [],
   "source": [
    "pmin, pmax = 1, 4\n",
    "Imin, Imax = 10, 200\n",
    "cmax = (3/4)*Imax/pmin\n",
    "c0 = np.linspace(0.1,cmax,num=100)"
   ]
  },
  {
   "cell_type": "code",
   "execution_count": 6,
   "metadata": {
    "collapsed": true,
    "slideshow": {
     "slide_type": "skip"
    }
   },
   "outputs": [],
   "source": [
    "def consume_plot(p, I, a=alpha):\n",
    "    ce, uebar = acopt(p, I, a)\n",
    "    fig, ax = plt.subplots(figsize=(9,9))\n",
    "    ax.plot(c0, budgetc(c0, p, I), lw=2.5)\n",
    "    ax.fill_between(c0, budgetc(c0, p, I), alpha = 0.2)\n",
    "    ax.plot(c0, indif(c0, uebar, a), lw=2.5)\n",
    "    ax.vlines(ce[0],0,ce[1], linestyles=\"dashed\")\n",
    "    ax.hlines(ce[1],0,ce[0], linestyles=\"dashed\")\n",
    "    ax.plot(ce[0],ce[1],'ob')\n",
    "    ax.set_xlim(0, cmax)\n",
    "    ax.set_ylim(0, cmax)\n",
    "    ax.set_xlabel(r'$c_0$', fontsize=16)\n",
    "    ax.set_ylabel('$c_1$', fontsize=16)\n",
    "    ax.spines['right'].set_visible(False)\n",
    "    ax.spines['top'].set_visible(False)\n",
    "    plt.show()"
   ]
  },
  {
   "cell_type": "markdown",
   "metadata": {
    "slideshow": {
     "slide_type": "slide"
    }
   },
   "source": [
    "Cobb-Douglas utility:  $U(c_0,c_1) = c_0^a \\cdot c_1^{1-a}$"
   ]
  },
  {
   "cell_type": "code",
   "execution_count": 7,
   "metadata": {
    "slideshow": {
     "slide_type": "fragment"
    }
   },
   "outputs": [
    {
     "data": {
      "application/vnd.jupyter.widget-view+json": {
       "model_id": "bdade28c69f84d249a4fc3d2e1799d64",
       "version_major": 2,
       "version_minor": 0
      },
      "text/plain": [
       "A Jupyter Widget"
      ]
     },
     "metadata": {},
     "output_type": "display_data"
    }
   ],
   "source": [
    "interact(consume_plot, p=(0.5,2,0.1), I=(50,150,10), a=(0.1,0.9,0.1));"
   ]
  },
  {
   "cell_type": "code",
   "execution_count": 8,
   "metadata": {
    "collapsed": true,
    "slideshow": {
     "slide_type": "skip"
    }
   },
   "outputs": [],
   "source": [
    "c0 = np.linspace(0.1,cmax,num=100)\n",
    "def arb_plot(c0g):\n",
    "    cg = [c0g,I-c0g]\n",
    "    '''Display characteristics of a guess along the constraint'''\n",
    "    fig, ax = plt.subplots(figsize=(9,9))\n",
    "    ax.plot(c0, budgetc(c0, p, I), lw=1)\n",
    "    ax.fill_between(c0, budgetc(c0, p, I), alpha = 0.2)\n",
    "    ax.plot(c0, indif(c0, U(cg)), lw=2.5)\n",
    "    ax.vlines(cg[0],0,cg[1], linestyles=\"dashed\")\n",
    "    ax.hlines(cg[1],0,cg[0], linestyles=\"dashed\")\n",
    "    ax.plot(cg[0],cg[1],'ob')\n",
    "    mu0pd, mu1pd = MU0(cg), MU1(cg)/p\n",
    "    if mu0pd > mu1pd:\n",
    "        inq = r'$>$'\n",
    "    elif mu0pd < mu1pd:\n",
    "        inq = r'$<$'\n",
    "    else:\n",
    "        inq =r'$=$'\n",
    "    ax.text(60, 120, r'$\\frac{MU_0}{p_0}$'+inq+r'$\\frac{MU_1}{p_1}$',fontsize=20)\n",
    "    utext = r'$({:5.1f}, {:5.1f}) \\ \\ U={:5.3f}$'.format(cg[0], cg[1], U(cg))\n",
    "    ax.text(60, 100, utext, fontsize=12)\n",
    "    ax.set_xlim(0, cmax)\n",
    "    ax.set_ylim(0, cmax)\n",
    "    ax.set_xlabel(r'$c_0$', fontsize=16)\n",
    "    ax.set_ylabel('$c_1$', fontsize=16)\n",
    "    ax.spines['right'].set_visible(False)\n",
    "    ax.spines['top'].set_visible(False)\n",
    "    ax.set_title('The No-Arbitrage argument')\n",
    "    plt.show()"
   ]
  },
  {
   "cell_type": "markdown",
   "metadata": {
    "slideshow": {
     "slide_type": "slide"
    }
   },
   "source": [
    "## The 'no-arbitrage' argument "
   ]
  },
  {
   "cell_type": "code",
   "execution_count": 9,
   "metadata": {
    "slideshow": {
     "slide_type": "-"
    }
   },
   "outputs": [
    {
     "data": {
      "application/vnd.jupyter.widget-view+json": {
       "model_id": "9a903a4ab6684f6b97bdfbfcb40a8f84",
       "version_major": 2,
       "version_minor": 0
      },
      "text/plain": [
       "A Jupyter Widget"
      ]
     },
     "metadata": {},
     "output_type": "display_data"
    }
   ],
   "source": [
    "interact(arb_plot, c0g=(1,I,0.1));"
   ]
  },
  {
   "cell_type": "code",
   "execution_count": 10,
   "metadata": {
    "collapsed": true,
    "slideshow": {
     "slide_type": "skip"
    }
   },
   "outputs": [],
   "source": [
    "def consume_plot(c0, p, I, a=alpha):\n",
    "    c0 = np.linspace(0.1,cmax,num=100)\n",
    "    ce, uebar = find_opt(p, I, a)\n",
    "    fig, ax = plt.subplots(figsize=(6,6))\n",
    "    ax.plot(c0, budgetc(c0, p, I), lw=2.5)\n",
    "    ax.plot(c0, indif(c0, uebar, a), lw=2.5)\n",
    "    ax.vlines(ce[0],0,ce[1], linestyles=\"dashed\")\n",
    "    ax.hlines(ce[1],0,ce[0], linestyles=\"dashed\")\n",
    "    ax.plot(ce[0],ce[1],'ob')\n",
    "    ax.set_xlim(0, cmax)\n",
    "    ax.set_ylim(0, cmax)\n",
    "    ax.set_xlabel(r'$c_1$', fontsize=16)\n",
    "    ax.set_ylabel('$c_2$', fontsize=16)\n",
    "    ax.spines['right'].set_visible(False)\n",
    "    ax.spines['top'].set_visible(False)\n",
    "    plt.show()"
   ]
  },
  {
   "cell_type": "code",
   "execution_count": 11,
   "metadata": {
    "collapsed": true,
    "slideshow": {
     "slide_type": "skip"
    }
   },
   "outputs": [],
   "source": [
    "levels = np.arange(0,60,12)   # if want to specify levels=levels option in contour"
   ]
  },
  {
   "cell_type": "code",
   "execution_count": 12,
   "metadata": {
    "collapsed": true,
    "slideshow": {
     "slide_type": "skip"
    }
   },
   "outputs": [],
   "source": [
    "def consplot3d():\n",
    "    fig= plt.figure(figsize=(9,9))\n",
    "    x0 = np.linspace(0.1, 100, 1000)\n",
    "    x1 = np.copy(x0)\n",
    "    X0, X1 = np.meshgrid(x0, x1)\n",
    "    Z = U(np.vstack([X0.ravel(), X1.ravel()])).reshape((1000,1000))\n",
    "    levels = np.arange(0,60,12)   # if want to specify contour level values\n",
    "    \n",
    "    ax1 = fig.add_subplot(121, projection='3d')\n",
    "    ax1.plot_surface(X0, X1, Z, cmap=cm.coolwarm);    # plot a 3d surface plot\n",
    "    ax1.plot(x0,I-p*x0, '--k')\n",
    "    ax1.set_xlabel('x0')\n",
    "    ax1.set_ylabel('x1')\n",
    "    ax1.set_zlabel('U(x0,x1)');\n",
    "    ax1.contour(X0,X1,Z, offset=1);  # contour lines projected on U=0 plane \n",
    "    #ax.view_init(elev =25, azim = -95)   #to change view angle\n",
    "    \n",
    "    ax2 = fig.add_subplot(122, aspect='equal')\n",
    "    ax2.contour(X0, X1, Z)\n",
    "    ax2.plot(x0,I - p*x0)\n",
    "    #ax2.xlabel(r'$x_0$'); plt.ylabel(r'$x_1$')\n",
    "    #ax2.title('Consumer Optimization')\n",
    "    ax2.fill_between(x0, I - p*x0, alpha = 0.2);\n",
    "\n",
    "    plt.savefig('utility3d.jpg')\n",
    "    "
   ]
  },
  {
   "cell_type": "code",
   "execution_count": 13,
   "metadata": {
    "slideshow": {
     "slide_type": "slide"
    }
   },
   "outputs": [
    {
     "data": {
      "image/png": "[encoded data removed]",
      "text/plain": [
       "<matplotlib.figure.Figure at 0x7f1e33067e80>"
      ]
     },
     "metadata": {},
     "output_type": "display_data"
    }
   ],
   "source": [
    "consplot3d()"
   ]
  },
  {
   "cell_type": "markdown",
   "metadata": {
    "slideshow": {
     "slide_type": "slide"
    }
   },
   "source": [
    "# Numerical constrained optimization"
   ]
  },
  {
   "cell_type": "code",
   "execution_count": 14,
   "metadata": {
    "collapsed": true,
    "slideshow": {
     "slide_type": "subslide"
    }
   },
   "outputs": [],
   "source": [
    "from scipy.optimize import minimize\n",
    "\n",
    "def budget(x):\n",
    "    return np.array([p*x[0] + x[1] - I])\n",
    "\n",
    "budgetc = ({'type': 'eq', 'fun' : budget })"
   ]
  },
  {
   "cell_type": "code",
   "execution_count": 15,
   "metadata": {
    "collapsed": true,
    "slideshow": {
     "slide_type": "fragment"
    }
   },
   "outputs": [],
   "source": [
    "def negU(x):\n",
    "    return -U(x)"
   ]
  },
  {
   "cell_type": "code",
   "execution_count": 16,
   "metadata": {
    "slideshow": {
     "slide_type": "fragment"
    }
   },
   "outputs": [
    {
     "data": {
      "text/plain": [
       "(array([ 50.,  50.]), 50.0)"
      ]
     },
     "execution_count": 16,
     "metadata": {},
     "output_type": "execute_result"
    }
   ],
   "source": [
    "x = np.array([I/2, I/2])  # initial guess\n",
    "x, U(x)"
   ]
  },
  {
   "cell_type": "code",
   "execution_count": 17,
   "metadata": {
    "slideshow": {
     "slide_type": "fragment"
    }
   },
   "outputs": [
    {
     "data": {
      "text/plain": [
       "     fun: -51.01698002500743\n",
       "     jac: array([-0.51017046, -0.51016903])\n",
       " message: 'Optimization terminated successfully.'\n",
       "    nfev: 28\n",
       "     nit: 7\n",
       "    njev: 7\n",
       "  status: 0\n",
       " success: True\n",
       "       x: array([ 59.99995227,  40.00004773])"
      ]
     },
     "execution_count": 17,
     "metadata": {},
     "output_type": "execute_result"
    }
   ],
   "source": [
    "ux = minimize(negU, x, constraints = budgetc)\n",
    "ux"
   ]
  },
  {
   "cell_type": "code",
   "execution_count": 18,
   "metadata": {
    "collapsed": true
   },
   "outputs": [],
   "source": [
    "ce = ux.x"
   ]
  },
  {
   "cell_type": "code",
   "execution_count": 19,
   "metadata": {
    "collapsed": true,
    "slideshow": {
     "slide_type": "slide"
    }
   },
   "outputs": [],
   "source": [
    "def indif(ubar):\n",
    "    '''Returns an indifference curve function x1\n",
    "       U(x0,x1) = ubar\n",
    "    '''\n",
    "    def x1ic(x0, a=alpha):\n",
    "        return np.power(ubar/np.power(x0,a), 1/(1-a))\n",
    "    return x1ic\n",
    "    "
   ]
  },
  {
   "cell_type": "markdown",
   "metadata": {
    "slideshow": {
     "slide_type": "fragment"
    }
   },
   "source": [
    "Function factory: function `indif` returns a *function* of x0. that we later use to graph indifference. "
   ]
  },
  {
   "cell_type": "code",
   "execution_count": 20,
   "metadata": {
    "collapsed": true,
    "slideshow": {
     "slide_type": "subslide"
    }
   },
   "outputs": [],
   "source": [
    "def isocost(x0):\n",
    "    return I - p*x0"
   ]
  },
  {
   "cell_type": "code",
   "execution_count": null,
   "metadata": {
    "collapsed": true
   },
   "outputs": [],
   "source": []
  }
 ],
 "metadata": {
  "celltoolbar": "Slideshow",
  "hide_input": false,
  "kernelspec": {
   "display_name": "Python [default]",
   "language": "python",
   "name": "python3"
  },
  "language_info": {
   "codemirror_mode": {
    "name": "ipython",
    "version": 3
   },
   "file_extension": ".py",
   "mimetype": "text/x-python",
   "name": "python",
   "nbconvert_exporter": "python",
   "pygments_lexer": "ipython3",
   "version": "3.6.1"
  },
  "toc": {
   "colors": {
    "hover_highlight": "#DAA520",
    "navigate_num": "#000000",
    "navigate_text": "#333333",
    "running_highlight": "#FF0000",
    "selected_highlight": "#FFD700",
    "sidebar_border": "#EEEEEE",
    "wrapper_background": "#FFFFFF"
   },
   "moveMenuLeft": true,
   "nav_menu": {
    "height": "119px",
    "width": "252px"
   },
   "navigate_menu": true,
   "number_sections": false,
   "sideBar": true,
   "threshold": 4,
   "toc_cell": false,
   "toc_section_display": "block",
   "toc_window_display": false,
   "widenNotebook": false
  },
  "varInspector": {
   "cols": {
    "lenName": 16,
    "lenType": 16,
    "lenVar": 40
   },
   "kernels_config": {
    "python": {
     "delete_cmd_postfix": "",
     "delete_cmd_prefix": "del ",
     "library": "var_list.py",
     "varRefreshCmd": "print(var_dic_list())"
    },
    "r": {
     "delete_cmd_postfix": ") ",
     "delete_cmd_prefix": "rm(",
     "library": "var_list.r",
     "varRefreshCmd": "cat(var_dic_list()) "
    }
   },
   "types_to_exclude": [
    "module",
    "function",
    "builtin_function_or_method",
    "instance",
    "_Feature"
   ],
   "window_display": false
  }
 },
 "nbformat": 4,
 "nbformat_minor": 2
}
