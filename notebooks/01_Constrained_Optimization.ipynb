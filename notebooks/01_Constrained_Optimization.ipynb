{
 "cells": [
  {
   "cell_type": "markdown",
   "metadata": {
    "slideshow": {
     "slide_type": "slide"
    }
   },
   "source": [
    "# Nots on Constrained Optimization\n",
    "## Analytical and numerical approaches\n",
    "\n",
    "This notebook contains some interactive graphical examples and a simple sample numerical constrained optimization.  This notebook uses widgets from the ipywidgets library which will not be rendered in a static view. You may need to run the whole notebook for the figures to become visible."
   ]
  },
  {
   "cell_type": "code",
   "execution_count": 1,
   "metadata": {
    "collapsed": true,
    "slideshow": {
     "slide_type": "skip"
    }
   },
   "outputs": [],
   "source": [
    "%matplotlib inline\n",
    "import matplotlib.pyplot as plt\n",
    "plt.style.use('seaborn-whitegrid')\n",
    "import numpy as np\n",
    "from scipy.optimize import minimize\n",
    "\n",
    "from mpl_toolkits.mplot3d import *\n",
    "from matplotlib import cm\n",
    "from ipywidgets import interact"
   ]
  },
  {
   "cell_type": "markdown",
   "metadata": {
    "slideshow": {
     "slide_type": "slide"
    }
   },
   "source": [
    "### Consumer's optimization problem:\n",
    "\n",
    "$$\\max_{x_0,x_1} U(x_0,x_1) $$\n",
    "\n",
    "subject to a budget constraint\n",
    "\n",
    "$$p x_0 + x_1 \\leq I $$"
   ]
  },
  {
   "cell_type": "markdown",
   "metadata": {
    "slideshow": {
     "slide_type": "fragment"
    }
   },
   "source": [
    "where $p=\\frac{p_{0}}{p_{1}}$"
   ]
  },
  {
   "cell_type": "markdown",
   "metadata": {
    "slideshow": {
     "slide_type": "skip"
    }
   },
   "source": [
    "Let's make some parameter assumptions for the default examples and diagrams below."
   ]
  },
  {
   "cell_type": "code",
   "execution_count": 2,
   "metadata": {
    "collapsed": true,
    "slideshow": {
     "slide_type": "skip"
    }
   },
   "outputs": [],
   "source": [
    "alpha = 0.6\n",
    "p = 1\n",
    "I = 100"
   ]
  },
  {
   "cell_type": "markdown",
   "metadata": {
    "slideshow": {
     "slide_type": "skip"
    }
   },
   "source": [
    "Now define the utility function and budget constraint"
   ]
  },
  {
   "cell_type": "code",
   "execution_count": 3,
   "metadata": {
    "collapsed": true,
    "slideshow": {
     "slide_type": "subslide"
    }
   },
   "outputs": [],
   "source": [
    "# useful for plots and calculations\n",
    "def budgetc(c0,p,I):\n",
    "    '''c1 as a function of c0 along budget line'''\n",
    "    return I - p*c0\n",
    "\n",
    "def U(c, a=alpha):\n",
    "    '''Utility at c=(c[0], c[1])'''\n",
    "    return (c[0]**a)*(c[1]**(1-a))\n",
    "\n",
    "def MU0(c, a=alpha):\n",
    "    '''MU of Cobb-Douglas'''\n",
    "    return  a*U(c,a)/c[0] \n",
    "\n",
    "def MU1(c, a=alpha):\n",
    "    return  (1-a)*U(c,a)/c[1]\n",
    "\n",
    "def indif(c0, ubar, a=alpha):\n",
    "    '''c1 as function of c0, implicitly defined by U(c0, c1) = ubar'''\n",
    "    return (ubar/(c0**a))**(1/(1-a))"
   ]
  },
  {
   "cell_type": "markdown",
   "metadata": {},
   "source": [
    "For this Cobb-Douglas we can get easy analytical solutions that give us the Marshallian demands:\n",
    "\n",
    "$$x_0^* = \\alpha \\cdot \\frac{I}{p}$$\n",
    "\n",
    "$$x_1^* = (1-\\alpha) \\cdot I$$\n",
    "\n",
    "Here is a function that given prices, income and share parameter, returns a vector of Marshallian demands $[x_0^*, x_1^*]$, along with the maximized level of utility $Ux_0^*, x_1^*)$."
   ]
  },
  {
   "cell_type": "code",
   "execution_count": 4,
   "metadata": {
    "collapsed": true,
    "slideshow": {
     "slide_type": "skip"
    }
   },
   "outputs": [],
   "source": [
    "def ademands(p,I,a =alpha):\n",
    "    '''Analytic solution for interior optimum'''\n",
    "    c0 = a * I/p\n",
    "    c1 = (1-a)*I\n",
    "    c = [c0,c1]\n",
    "    uopt = U(c,a)\n",
    "    return c, uopt"
   ]
  },
  {
   "cell_type": "code",
   "execution_count": 5,
   "metadata": {
    "collapsed": true,
    "slideshow": {
     "slide_type": "skip"
    }
   },
   "outputs": [],
   "source": [
    "pmin, pmax = 1, 4\n",
    "Imin, Imax = 10, 200\n",
    "cmax = (3/4)*Imax/pmin\n",
    "c0 = np.linspace(0.1,cmax,num=100)"
   ]
  },
  {
   "cell_type": "code",
   "execution_count": 6,
   "metadata": {
    "collapsed": true,
    "slideshow": {
     "slide_type": "skip"
    }
   },
   "outputs": [],
   "source": [
    "def consume_plot(p, I, a=alpha):\n",
    "    ce, uebar = ademands(p, I, a)\n",
    "    fig, ax = plt.subplots(figsize=(9,9))\n",
    "    ax.plot(c0, budgetc(c0, p, I), lw=2.5)\n",
    "    ax.fill_between(c0, budgetc(c0, p, I), alpha = 0.2)\n",
    "    ax.plot(c0, indif(c0, uebar, a), lw=2.5)\n",
    "    ax.vlines(ce[0],0,ce[1], linestyles=\"dashed\")\n",
    "    ax.hlines(ce[1],0,ce[0], linestyles=\"dashed\")\n",
    "    ax.plot(ce[0],ce[1],'ob')\n",
    "    ax.set_xlim(0, cmax)\n",
    "    ax.set_ylim(0, cmax)\n",
    "    ax.set_xlabel(r'$c_0$', fontsize=16)\n",
    "    ax.set_ylabel('$c_1$', fontsize=16)\n",
    "    ax.spines['right'].set_visible(False)\n",
    "    ax.spines['top'].set_visible(False)\n",
    "    plt.show()"
   ]
  },
  {
   "cell_type": "markdown",
   "metadata": {
    "slideshow": {
     "slide_type": "slide"
    }
   },
   "source": [
    "Cobb-Douglas utility:  $U(c_0,c_1) = c_0^a \\cdot c_1^{1-a}$"
   ]
  },
  {
   "cell_type": "code",
   "execution_count": 7,
   "metadata": {
    "slideshow": {
     "slide_type": "fragment"
    }
   },
   "outputs": [
    {
     "data": {
      "application/vnd.jupyter.widget-view+json": {
       "model_id": "6c72d16f0faf4a7194fdf1fd40f1048a",
       "version_major": 2,
       "version_minor": 0
      },
      "text/plain": [
       "A Jupyter Widget"
      ]
     },
     "metadata": {},
     "output_type": "display_data"
    }
   ],
   "source": [
    "interact(consume_plot, p=(0.5,2,0.1), I=(50,150,10), a=(0.1,0.9,0.1));"
   ]
  },
  {
   "cell_type": "code",
   "execution_count": 8,
   "metadata": {
    "collapsed": true,
    "slideshow": {
     "slide_type": "skip"
    }
   },
   "outputs": [],
   "source": [
    "def arb_plot(c0g):\n",
    "    cg = [c0g,I-c0g]\n",
    "    '''Display characteristics of a guess along the constraint'''\n",
    "    fig, ax = plt.subplots(figsize=(9,9))\n",
    "    ax.plot(c0, budgetc(c0, p, I), lw=1)\n",
    "    ax.fill_between(c0, budgetc(c0, p, I), alpha = 0.2)\n",
    "    ax.plot(c0, indif(c0, U(cg)), lw=2.5)\n",
    "    ax.vlines(cg[0],0,cg[1], linestyles=\"dashed\")\n",
    "    ax.hlines(cg[1],0,cg[0], linestyles=\"dashed\")\n",
    "    ax.plot(cg[0],cg[1],'ob')\n",
    "    mu0pd, mu1pd = MU0(cg), MU1(cg)/p\n",
    "    if mu0pd > mu1pd:\n",
    "        inq = r'$>$'\n",
    "    elif mu0pd < mu1pd:\n",
    "        inq = r'$<$'\n",
    "    else:\n",
    "        inq =r'$=$'\n",
    "    ax.text(60, 120, r'$\\frac{MU_0}{p_0}$'+inq+r'$\\frac{MU_1}{p_1}$',fontsize=20)\n",
    "    utext = r'$({:5.1f}, {:5.1f}) \\ \\ U={:5.3f}$'.format(cg[0], cg[1], U(cg))\n",
    "    ax.text(60, 100, utext, fontsize=12)\n",
    "    ax.set_xlim(0, cmax)\n",
    "    ax.set_ylim(0, cmax)\n",
    "    ax.set_xlabel(r'$c_0$', fontsize=16)\n",
    "    ax.set_ylabel('$c_1$', fontsize=16)\n",
    "    ax.spines['right'].set_visible(False)\n",
    "    ax.spines['top'].set_visible(False)\n",
    "    ax.set_title('The No-Arbitrage argument')\n",
    "    plt.show()"
   ]
  },
  {
   "cell_type": "markdown",
   "metadata": {
    "slideshow": {
     "slide_type": "slide"
    }
   },
   "source": [
    "## The 'no-arbitrage' argument \n",
    "Move the slider to move the consumption point along the budget line. Keep adjusting until we reach the highest indifference curve at a tangency point."
   ]
  },
  {
   "cell_type": "code",
   "execution_count": 9,
   "metadata": {
    "slideshow": {
     "slide_type": "-"
    }
   },
   "outputs": [
    {
     "data": {
      "application/vnd.jupyter.widget-view+json": {
       "model_id": "0ffbfedd13c5404183c3f5471e1f4b6e",
       "version_major": 2,
       "version_minor": 0
      },
      "text/plain": [
       "A Jupyter Widget"
      ]
     },
     "metadata": {},
     "output_type": "display_data"
    }
   ],
   "source": [
    "interact(arb_plot, c0g=(1,I,0.1));"
   ]
  },
  {
   "cell_type": "markdown",
   "metadata": {
    "slideshow": {
     "slide_type": "slide"
    }
   },
   "source": [
    "# Numerical constrained optimization\n",
    "\n",
    "The problem we have been solving can be easily solved analytically (i.e. we can derive formulas for Marshallian demands) but it's useful to also see how this type of constrained optimization problem can be solved numerically using the Scipy opimize library."
   ]
  },
  {
   "cell_type": "code",
   "execution_count": 10,
   "metadata": {
    "collapsed": true
   },
   "outputs": [],
   "source": [
    "from scipy.optimize import minimize"
   ]
  },
  {
   "cell_type": "markdown",
   "metadata": {},
   "source": [
    "If we choose good one to be the numeraire (i.e. set $p_1=1$) then the budget constraint \n",
    "\n",
    "$$p_0 x_0 + p_1 x_1 = I $$\n",
    "\n",
    "can be rewritten \n",
    "\n",
    "$$p x_0 + x_1 = I $$\n",
    "\n",
    "where $p=\\frac{p_0}{p_1}$ is the relative price of good 0 (i.e. how many units of good 1 must be exchange for one unit of good 0).  \n",
    "\n",
    "The `minimize` function will want us to pass in constraints expressed in a way similar to the way we use them inside a Lagrangian. In our case the problem is:\n",
    "\n",
    "$$\\max L(x_0, x_1, I, \\lambda) = u(x_0, x_1) + \\lambda (p x_0 + x_1 - I) $$\n",
    "\n",
    "The budget function defines the constraint as a function of $x=(x_0, x_1)$.  What we actually pass to the `minimize` function is a small dictionary with 'type' and 'fun' keys.  The 'type refers to whether it is an equality or inequality constraint and the 'fun' points to the budget function we've defined."
   ]
  },
  {
   "cell_type": "markdown",
   "metadata": {},
   "source": [
    "We are going to wrap all of this inside a function `optimum(p, I)` to allow us to find an optimum for any given price vector $p$ and income  $I$"
   ]
  },
  {
   "cell_type": "code",
   "execution_count": 11,
   "metadata": {},
   "outputs": [],
   "source": [
    "def demands(p, I, a= alpha):\n",
    "    \n",
    "    def budget(x):\n",
    "        return np.array([p*x[0] + x[1] - I])\n",
    "\n",
    "    budgetc = ({'type': 'eq', 'fun' : budget })\n",
    "    \n",
    "    def negU(x):\n",
    "        return -U(x, a)\n",
    "\n",
    "    x = np.array([(I/2)/p, (I/2)])  # initial guess - spend half I on each good\n",
    "    \n",
    "    ux = minimize(negU, x, constraints = budgetc)\n",
    "    \n",
    "    return ux.x\n",
    "    "
   ]
  },
  {
   "cell_type": "markdown",
   "metadata": {},
   "source": [
    "It looks like it works. Suppose $p=1, I=100$ and the Cobb-Douglass share parameter is $\\alpha = 0.7$), then demand for $x_0$ and x_1$ are found to be:"
   ]
  },
  {
   "cell_type": "code",
   "execution_count": 12,
   "metadata": {
    "slideshow": {
     "slide_type": "subslide"
    }
   },
   "outputs": [
    {
     "data": {
      "text/plain": [
       "(40.000030505037259, 59.999969494962741, 51.016980025021738)"
      ]
     },
     "execution_count": 12,
     "metadata": {},
     "output_type": "execute_result"
    }
   ],
   "source": [
    "[x0opt, x1opt] = demands(1, 100, 0.4)\n",
    "\n",
    "x0opt, x1opt, U([x0opt, x1opt], 0.4)"
   ]
  },
  {
   "cell_type": "markdown",
   "metadata": {},
   "source": [
    "This is very close to the exact analytical solution but the solver sometimes stops just short of the true optimum (if we wanted to we could get much closer by setting a higher tolerance threshold in the minimize solver)"
   ]
  },
  {
   "cell_type": "code",
   "execution_count": 13,
   "metadata": {},
   "outputs": [
    {
     "data": {
      "text/plain": [
       "([40.0, 60.0], 51.01698002503163)"
      ]
     },
     "execution_count": 13,
     "metadata": {},
     "output_type": "execute_result"
    }
   ],
   "source": [
    "ademands(1,100, 0.4)"
   ]
  },
  {
   "cell_type": "markdown",
   "metadata": {},
   "source": [
    "Finally let's setup a simple widget to let us see how "
   ]
  },
  {
   "cell_type": "code",
   "execution_count": 14,
   "metadata": {},
   "outputs": [
    {
     "data": {
      "application/vnd.jupyter.widget-view+json": {
       "model_id": "bde0e3dcab9545f7b22ba8c46d538b9a",
       "version_major": 2,
       "version_minor": 0
      },
      "text/plain": [
       "A Jupyter Widget"
      ]
     },
     "metadata": {},
     "output_type": "display_data"
    }
   ],
   "source": [
    "interact(demands, p=(0.2,2,0.1), I = (50, 200, 10), a =(0.2, 0.8, 0.1));"
   ]
  }
 ],
 "metadata": {
  "hide_input": false,
  "kernelspec": {
   "display_name": "Python 3",
   "language": "python",
   "name": "python3"
  },
  "language_info": {
   "codemirror_mode": {
    "name": "ipython",
    "version": 3
   },
   "file_extension": ".py",
   "mimetype": "text/x-python",
   "name": "python",
   "nbconvert_exporter": "python",
   "pygments_lexer": "ipython3",
   "version": "3.5.1"
  },
  "toc": {
   "colors": {
    "hover_highlight": "#DAA520",
    "navigate_num": "#000000",
    "navigate_text": "#333333",
    "running_highlight": "#FF0000",
    "selected_highlight": "#FFD700",
    "sidebar_border": "#EEEEEE",
    "wrapper_background": "#FFFFFF"
   },
   "moveMenuLeft": true,
   "nav_menu": {
    "height": "119px",
    "width": "252px"
   },
   "navigate_menu": true,
   "number_sections": true,
   "sideBar": true,
   "threshold": 4,
   "toc_cell": false,
   "toc_section_display": "block",
   "toc_window_display": false,
   "widenNotebook": false
  },
  "varInspector": {
   "cols": {
    "lenName": 16,
    "lenType": 16,
    "lenVar": 40
   },
   "kernels_config": {
    "python": {
     "delete_cmd_postfix": "",
     "delete_cmd_prefix": "del ",
     "library": "var_list.py",
     "varRefreshCmd": "print(var_dic_list())"
    },
    "r": {
     "delete_cmd_postfix": ") ",
     "delete_cmd_prefix": "rm(",
     "library": "var_list.r",
     "varRefreshCmd": "cat(var_dic_list()) "
    }
   },
   "types_to_exclude": [
    "module",
    "function",
    "builtin_function_or_method",
    "instance",
    "_Feature"
   ],
   "window_display": false
  },
  "widgets": {
   "application/vnd.jupyter.widget-state+json": {
    "state": {
     "049ec90b3cfb4b6da9770449ab4fe03e": {
      "model_module": "@jupyter-widgets/base",
      "model_module_version": "1.0.0",
      "model_name": "LayoutModel",
      "state": {}
     },
     "0647921d351a490998fac190b316f7eb": {
      "model_module": "@jupyter-widgets/controls",
      "model_module_version": "1.0.0",
      "model_name": "VBoxModel",
      "state": {
       "_dom_classes": [
        "widget-interact"
       ],
       "children": [
        "IPY_MODEL_595b69550ae8417c860a3458f74e0354",
        "IPY_MODEL_24a6ae4ec07f4ff6b554b82c720dc19b",
        "IPY_MODEL_4eced260458e458fbbf9b2f5195ba73e",
        "IPY_MODEL_519c95353bf04cf6ad2096bf88f139b2"
       ],
       "layout": "IPY_MODEL_dd2f1cfea2db48ccbe995de3c8982a40"
      }
     },
     "09b18587f7504302bbc06830cefb6b66": {
      "model_module": "@jupyter-widgets/base",
      "model_module_version": "1.0.0",
      "model_name": "LayoutModel",
      "state": {}
     },
     "0ffbfedd13c5404183c3f5471e1f4b6e": {
      "model_module": "@jupyter-widgets/controls",
      "model_module_version": "1.0.0",
      "model_name": "VBoxModel",
      "state": {
       "_dom_classes": [
        "widget-interact"
       ],
       "children": [
        "IPY_MODEL_5544abc24998424c86837d4c725c0607",
        "IPY_MODEL_8c752312ad324e3c94885735e360c41c"
       ],
       "layout": "IPY_MODEL_c371ea911c62482984c803d3d05dc123"
      }
     },
     "10a2b38306f94dd3a0855167226cda96": {
      "model_module": "@jupyter-widgets/controls",
      "model_module_version": "1.0.0",
      "model_name": "FloatSliderModel",
      "state": {
       "description": "a",
       "layout": "IPY_MODEL_09b18587f7504302bbc06830cefb6b66",
       "max": 0.9,
       "min": 0.1,
       "step": 0.1,
       "style": "IPY_MODEL_6862a8e7e6204e8b8ffb78e572ef0a4f",
       "value": 0.6
      }
     },
     "111c6269ba6344a5877505ec83bb34b7": {
      "model_module": "@jupyter-widgets/controls",
      "model_module_version": "1.0.0",
      "model_name": "FloatSliderModel",
      "state": {
       "description": "p",
       "layout": "IPY_MODEL_d2276b297a55448f92b68386d9d86d37",
       "max": 2,
       "min": 0.5,
       "step": 0.1,
       "style": "IPY_MODEL_37edae798112437985c329828095f8fb",
       "value": 1.2000000000000002
      }
     },
     "145f47cd4dca405c9b05f659f3a590e0": {
      "model_module": "@jupyter-widgets/base",
      "model_module_version": "1.0.0",
      "model_name": "LayoutModel",
      "state": {}
     },
     "1733a0b9624d4ffd9f0debc8ed7f77a2": {
      "model_module": "@jupyter-widgets/controls",
      "model_module_version": "1.0.0",
      "model_name": "VBoxModel",
      "state": {
       "_dom_classes": [
        "widget-interact"
       ],
       "children": [
        "IPY_MODEL_b18c38fc32664f67a7f4f02683bd3657",
        "IPY_MODEL_922bb2ed2d774a759b0709137467ed5e"
       ],
       "layout": "IPY_MODEL_734bc63aea0c4e769eaadcf26cfab627"
      }
     },
     "17d8441c264a45de90e1f61f60139064": {
      "model_module": "@jupyter-widgets/base",
      "model_module_version": "1.0.0",
      "model_name": "LayoutModel",
      "state": {}
     },
     "1c9b973e38a548c4ba46d03237017844": {
      "model_module": "@jupyter-widgets/base",
      "model_module_version": "1.0.0",
      "model_name": "LayoutModel",
      "state": {}
     },
     "20ab45a5a9ee45a2b9c2aec75f5b28c9": {
      "model_module": "@jupyter-widgets/base",
      "model_module_version": "1.0.0",
      "model_name": "LayoutModel",
      "state": {}
     },
     "23f1873cd0be42f9bc9e7646d61ba5d0": {
      "model_module": "@jupyter-widgets/controls",
      "model_module_version": "1.0.0",
      "model_name": "SliderStyleModel",
      "state": {
       "description_width": ""
      }
     },
     "24a6ae4ec07f4ff6b554b82c720dc19b": {
      "model_module": "@jupyter-widgets/controls",
      "model_module_version": "1.0.0",
      "model_name": "IntSliderModel",
      "state": {
       "description": "I",
       "layout": "IPY_MODEL_41c1d2391a284fb2a3bbfedc9f91d83e",
       "max": 200,
       "min": 50,
       "step": 10,
       "style": "IPY_MODEL_4c4a09edd4c8477099d1183ccf5f5da6",
       "value": 120
      }
     },
     "29e254a7fc704ad89830761f8ea1c6b3": {
      "model_module": "@jupyter-widgets/base",
      "model_module_version": "1.0.0",
      "model_name": "LayoutModel",
      "state": {}
     },
     "2b0bdc1e56e14e8f9dd626a9ce54aea9": {
      "model_module": "@jupyter-widgets/base",
      "model_module_version": "1.0.0",
      "model_name": "LayoutModel",
      "state": {}
     },
     "2cfcd1cdec294907aa67b54134a8346d": {
      "model_module": "@jupyter-widgets/controls",
      "model_module_version": "1.0.0",
      "model_name": "IntSliderModel",
      "state": {
       "description": "I",
       "layout": "IPY_MODEL_e5b445727efe42bd85439fcc001d569f",
       "max": 150,
       "min": 50,
       "step": 10,
       "style": "IPY_MODEL_76cd04e0a5334e0fab08e5ea63c7f8f7",
       "value": 100
      }
     },
     "32957710bfd447a8b1a2c143d7d80202": {
      "model_module": "@jupyter-widgets/base",
      "model_module_version": "1.0.0",
      "model_name": "LayoutModel",
      "state": {}
     },
     "37274f8a84934d98bd99597db35ee51d": {
      "model_module": "@jupyter-widgets/controls",
      "model_module_version": "1.0.0",
      "model_name": "SliderStyleModel",
      "state": {
       "description_width": ""
      }
     },
     "377699d7928d42849d8646ec7e6bc971": {
      "model_module": "@jupyter-widgets/controls",
      "model_module_version": "1.0.0",
      "model_name": "SliderStyleModel",
      "state": {
       "description_width": ""
      }
     },
     "37edae798112437985c329828095f8fb": {
      "model_module": "@jupyter-widgets/controls",
      "model_module_version": "1.0.0",
      "model_name": "SliderStyleModel",
      "state": {
       "description_width": ""
      }
     },
     "3d2b8adaaf6841c59cc48470ef477e65": {
      "model_module": "@jupyter-widgets/controls",
      "model_module_version": "1.0.0",
      "model_name": "SliderStyleModel",
      "state": {
       "description_width": ""
      }
     },
     "3da845f04b84472686ecce293e91d86e": {
      "model_module": "@jupyter-widgets/controls",
      "model_module_version": "1.0.0",
      "model_name": "VBoxModel",
      "state": {
       "_dom_classes": [
        "widget-interact"
       ],
       "children": [
        "IPY_MODEL_111c6269ba6344a5877505ec83bb34b7",
        "IPY_MODEL_fe47883366c247c1a289cee4726f01b8",
        "IPY_MODEL_9511ab6008664beb9df278fb679b979e",
        "IPY_MODEL_b415574ef54e43fca9101fdf74c58201"
       ],
       "layout": "IPY_MODEL_20ab45a5a9ee45a2b9c2aec75f5b28c9"
      }
     },
     "41612d3618cc40729a3ca26bb63f906b": {
      "model_module": "@jupyter-widgets/base",
      "model_module_version": "1.0.0",
      "model_name": "LayoutModel",
      "state": {}
     },
     "41c1d2391a284fb2a3bbfedc9f91d83e": {
      "model_module": "@jupyter-widgets/base",
      "model_module_version": "1.0.0",
      "model_name": "LayoutModel",
      "state": {}
     },
     "49ef7adbad1d4f9b8e20c5300c5427fa": {
      "model_module": "@jupyter-widgets/controls",
      "model_module_version": "1.0.0",
      "model_name": "SliderStyleModel",
      "state": {
       "description_width": ""
      }
     },
     "4c4a09edd4c8477099d1183ccf5f5da6": {
      "model_module": "@jupyter-widgets/controls",
      "model_module_version": "1.0.0",
      "model_name": "SliderStyleModel",
      "state": {
       "description_width": ""
      }
     },
     "4eced260458e458fbbf9b2f5195ba73e": {
      "model_module": "@jupyter-widgets/controls",
      "model_module_version": "1.0.0",
      "model_name": "FloatSliderModel",
      "state": {
       "description": "a",
       "layout": "IPY_MODEL_d7d079682a1945f29a64296e40050442",
       "max": 0.8,
       "min": 0.2,
       "step": 0.1,
       "style": "IPY_MODEL_49ef7adbad1d4f9b8e20c5300c5427fa",
       "value": 0.6
      }
     },
     "4ef6c6717ff8429ab947286f5371ec89": {
      "model_module": "@jupyter-widgets/base",
      "model_module_version": "1.0.0",
      "model_name": "LayoutModel",
      "state": {}
     },
     "519c95353bf04cf6ad2096bf88f139b2": {
      "model_module": "@jupyter-widgets/output",
      "model_module_version": "1.0.0",
      "model_name": "OutputModel",
      "state": {
       "layout": "IPY_MODEL_880e59624d2e466bb3f178e9b965b3ee",
       "outputs": [
        {
         "data": {
          "text/plain": "array([ 65.45453356,  48.0000131 ])"
         },
         "metadata": {},
         "output_type": "display_data"
        }
       ]
      }
     },
     "537fc370f4d7446a8d565a4710fc2ba4": {
      "model_module": "@jupyter-widgets/base",
      "model_module_version": "1.0.0",
      "model_name": "LayoutModel",
      "state": {}
     },
     "5544abc24998424c86837d4c725c0607": {
      "model_module": "@jupyter-widgets/controls",
      "model_module_version": "1.0.0",
      "model_name": "FloatSliderModel",
      "state": {
       "description": "c0g",
       "layout": "IPY_MODEL_049ec90b3cfb4b6da9770449ab4fe03e",
       "min": 1,
       "step": 0.1,
       "style": "IPY_MODEL_e17fbc9c109741a39a026829f3d1a8a9",
       "value": 50
      }
     },
     "595b69550ae8417c860a3458f74e0354": {
      "model_module": "@jupyter-widgets/controls",
      "model_module_version": "1.0.0",
      "model_name": "FloatSliderModel",
      "state": {
       "description": "p",
       "layout": "IPY_MODEL_adf951bbae044a16b2a5afc5bc8eb98f",
       "max": 2,
       "min": 0.2,
       "step": 0.1,
       "style": "IPY_MODEL_5cfec2207f94483d8ea17e0703b7ff92",
       "value": 1.1
      }
     },
     "5b026c26cb7746739cc1caf128ea2657": {
      "model_module": "@jupyter-widgets/base",
      "model_module_version": "1.0.0",
      "model_name": "LayoutModel",
      "state": {}
     },
     "5cfec2207f94483d8ea17e0703b7ff92": {
      "model_module": "@jupyter-widgets/controls",
      "model_module_version": "1.0.0",
      "model_name": "SliderStyleModel",
      "state": {
       "description_width": ""
      }
     },
     "60c4fd922fb64defb01b950f6c918482": {
      "model_module": "@jupyter-widgets/base",
      "model_module_version": "1.0.0",
      "model_name": "LayoutModel",
      "state": {}
     },
     "65c96220ee334c7489cb915ab3fbf036": {
      "model_module": "@jupyter-widgets/controls",
      "model_module_version": "1.0.0",
      "model_name": "SliderStyleModel",
      "state": {
       "description_width": ""
      }
     },
     "6862a8e7e6204e8b8ffb78e572ef0a4f": {
      "model_module": "@jupyter-widgets/controls",
      "model_module_version": "1.0.0",
      "model_name": "SliderStyleModel",
      "state": {
       "description_width": ""
      }
     },
     "6af6b157475b4ea180703419e2c475ac": {
      "model_module": "@jupyter-widgets/controls",
      "model_module_version": "1.0.0",
      "model_name": "FloatSliderModel",
      "state": {
       "description": "p",
       "layout": "IPY_MODEL_17d8441c264a45de90e1f61f60139064",
       "max": 2,
       "min": 0.2,
       "step": 0.1,
       "style": "IPY_MODEL_facbc9b4dcec40ab97481f80a609ff2a",
       "value": 1.1
      }
     },
     "6c5a994d297a4912b42ece1944e1bc14": {
      "model_module": "@jupyter-widgets/base",
      "model_module_version": "1.0.0",
      "model_name": "LayoutModel",
      "state": {}
     },
     "6c72d16f0faf4a7194fdf1fd40f1048a": {
      "model_module": "@jupyter-widgets/controls",
      "model_module_version": "1.0.0",
      "model_name": "VBoxModel",
      "state": {
       "_dom_classes": [
        "widget-interact"
       ],
       "children": [
        "IPY_MODEL_f26c87a73e1a46cdab576a0bbf1d5337",
        "IPY_MODEL_2cfcd1cdec294907aa67b54134a8346d",
        "IPY_MODEL_10a2b38306f94dd3a0855167226cda96",
        "IPY_MODEL_dc84f9232c0b499d94df022fb3315122"
       ],
       "layout": "IPY_MODEL_41612d3618cc40729a3ca26bb63f906b"
      }
     },
     "6eec82f3c44a412f8a94d95a1fef31aa": {
      "model_module": "@jupyter-widgets/output",
      "model_module_version": "1.0.0",
      "model_name": "OutputModel",
      "state": {
       "layout": "IPY_MODEL_cb93bfed8064481b827770eb21f60b72",
       "outputs": [
        {
         "data": {
          "text/plain": "array([ 65.45453356,  48.0000131 ])"
         },
         "metadata": {},
         "output_type": "display_data"
        }
       ]
      }
     },
     "734bc63aea0c4e769eaadcf26cfab627": {
      "model_module": "@jupyter-widgets/base",
      "model_module_version": "1.0.0",
      "model_name": "LayoutModel",
      "state": {}
     },
     "7515aa86e6594576a39438394e700273": {
      "model_module": "@jupyter-widgets/base",
      "model_module_version": "1.0.0",
      "model_name": "LayoutModel",
      "state": {}
     },
     "75e98dbc17124938a87eac47bbeb5c05": {
      "model_module": "@jupyter-widgets/output",
      "model_module_version": "1.0.0",
      "model_name": "OutputModel",
      "state": {
       "layout": "IPY_MODEL_32957710bfd447a8b1a2c143d7d80202",
       "outputs": [
        {
         "data": {
          "text/plain": "array([ 59.99995893,  44.00004517])"
         },
         "metadata": {},
         "output_type": "display_data"
        }
       ]
      }
     },
     "76cd04e0a5334e0fab08e5ea63c7f8f7": {
      "model_module": "@jupyter-widgets/controls",
      "model_module_version": "1.0.0",
      "model_name": "SliderStyleModel",
      "state": {
       "description_width": ""
      }
     },
     "77fe8bef26974dd19326a43919269ebf": {
      "model_module": "@jupyter-widgets/controls",
      "model_module_version": "1.0.0",
      "model_name": "FloatSliderModel",
      "state": {
       "description": "a",
       "layout": "IPY_MODEL_7515aa86e6594576a39438394e700273",
       "max": 0.8,
       "min": 0.2,
       "step": 0.1,
       "style": "IPY_MODEL_bb5e8eefc3204f73920d12625f1d95fc",
       "value": 0.5
      }
     },
     "810ec88e947e47eb823940bfceb56a3e": {
      "model_module": "@jupyter-widgets/base",
      "model_module_version": "1.0.0",
      "model_name": "LayoutModel",
      "state": {}
     },
     "880e59624d2e466bb3f178e9b965b3ee": {
      "model_module": "@jupyter-widgets/base",
      "model_module_version": "1.0.0",
      "model_name": "LayoutModel",
      "state": {}
     },
     "89072b80ef224972897a5bdb03f63583": {
      "model_module": "@jupyter-widgets/base",
      "model_module_version": "1.0.0",
      "model_name": "LayoutModel",
      "state": {}
     },
     "8c752312ad324e3c94885735e360c41c": {
      "model_module": "@jupyter-widgets/output",
      "model_module_version": "1.0.0",
      "model_name": "OutputModel",
      "state": {
       "layout": "IPY_MODEL_1c9b973e38a548c4ba46d03237017844",
       "outputs": [
        {
         "data": {
          "image/png": "iVBORw0KGgoAAAANSUhEUgAAAi0AAAI0CAYAAADRMBkhAAAABHNCSVQICAgIfAhkiAAAAAlwSFlz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\n",
          "text/plain": "<matplotlib.figure.Figure at 0x7f0342062470>"
         },
         "metadata": {},
         "output_type": "display_data"
        }
       ]
      }
     },
     "922bb2ed2d774a759b0709137467ed5e": {
      "model_module": "@jupyter-widgets/output",
      "model_module_version": "1.0.0",
      "model_name": "OutputModel",
      "state": {
       "layout": "IPY_MODEL_29e254a7fc704ad89830761f8ea1c6b3",
       "outputs": [
        {
         "data": {
          "image/png": "iVBORw0KGgoAAAANSUhEUgAAAi0AAAI0CAYAAADRMBkhAAAABHNCSVQICAgIfAhkiAAAAAlwSFlz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\n",
          "text/plain": "<matplotlib.figure.Figure at 0x7f896f4a2e10>"
         },
         "metadata": {},
         "output_type": "display_data"
        }
       ]
      }
     },
     "92b1fc3d402b4ab08e20914fb379fccd": {
      "model_module": "@jupyter-widgets/controls",
      "model_module_version": "1.0.0",
      "model_name": "FloatSliderModel",
      "state": {
       "description": "a",
       "layout": "IPY_MODEL_810ec88e947e47eb823940bfceb56a3e",
       "max": 0.8,
       "min": 0.2,
       "step": 0.1,
       "style": "IPY_MODEL_b6f7aff570be44fdafb83368f34d329b",
       "value": 0.6
      }
     },
     "9511ab6008664beb9df278fb679b979e": {
      "model_module": "@jupyter-widgets/controls",
      "model_module_version": "1.0.0",
      "model_name": "FloatSliderModel",
      "state": {
       "description": "a",
       "layout": "IPY_MODEL_2b0bdc1e56e14e8f9dd626a9ce54aea9",
       "max": 0.9,
       "min": 0.1,
       "step": 0.1,
       "style": "IPY_MODEL_967e394fe2614fa285c79a5fddecd17c",
       "value": 0.6
      }
     },
     "967e394fe2614fa285c79a5fddecd17c": {
      "model_module": "@jupyter-widgets/controls",
      "model_module_version": "1.0.0",
      "model_name": "SliderStyleModel",
      "state": {
       "description_width": ""
      }
     },
     "997ffb1cbac943d69392ba346977fd9f": {
      "model_module": "@jupyter-widgets/controls",
      "model_module_version": "1.0.0",
      "model_name": "SliderStyleModel",
      "state": {
       "description_width": ""
      }
     },
     "a4901af4ccae43c4a894181d6e0f99b8": {
      "model_module": "@jupyter-widgets/controls",
      "model_module_version": "1.0.0",
      "model_name": "SliderStyleModel",
      "state": {
       "description_width": ""
      }
     },
     "a7a7925ae7dd4f31a4a7486dd306d54c": {
      "model_module": "@jupyter-widgets/controls",
      "model_module_version": "1.0.0",
      "model_name": "FloatSliderModel",
      "state": {
       "description": "p",
       "layout": "IPY_MODEL_537fc370f4d7446a8d565a4710fc2ba4",
       "max": 2,
       "min": 0.2,
       "step": 0.1,
       "style": "IPY_MODEL_3d2b8adaaf6841c59cc48470ef477e65",
       "value": 1.1
      }
     },
     "a7b9fc13dec74a0692b567aafd5ba95a": {
      "model_module": "@jupyter-widgets/base",
      "model_module_version": "1.0.0",
      "model_name": "LayoutModel",
      "state": {}
     },
     "adf951bbae044a16b2a5afc5bc8eb98f": {
      "model_module": "@jupyter-widgets/base",
      "model_module_version": "1.0.0",
      "model_name": "LayoutModel",
      "state": {}
     },
     "af554947227b4615b90b47ee589027c6": {
      "model_module": "@jupyter-widgets/base",
      "model_module_version": "1.0.0",
      "model_name": "LayoutModel",
      "state": {}
     },
     "affa1f2769124f5baf5a7ed25f6ec77e": {
      "model_module": "@jupyter-widgets/controls",
      "model_module_version": "1.0.0",
      "model_name": "SliderStyleModel",
      "state": {
       "description_width": ""
      }
     },
     "b18c38fc32664f67a7f4f02683bd3657": {
      "model_module": "@jupyter-widgets/controls",
      "model_module_version": "1.0.0",
      "model_name": "FloatSliderModel",
      "state": {
       "description": "c0g",
       "layout": "IPY_MODEL_fe1a0fbd1a4f43598976ddd6a62f4e70",
       "min": 1,
       "step": 0.1,
       "style": "IPY_MODEL_23f1873cd0be42f9bc9e7646d61ba5d0",
       "value": 50
      }
     },
     "b415574ef54e43fca9101fdf74c58201": {
      "model_module": "@jupyter-widgets/output",
      "model_module_version": "1.0.0",
      "model_name": "OutputModel",
      "state": {
       "layout": "IPY_MODEL_a7b9fc13dec74a0692b567aafd5ba95a",
       "outputs": [
        {
         "data": {
          "image/png": "iVBORw0KGgoAAAANSUhEUgAAAi0AAAImCAYAAACfLrqxAAAABHNCSVQICAgIfAhkiAAAAAlwSFlz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\nlIR2MwAAAABJRU5ErkJggg==\n",
          "text/plain": "<matplotlib.figure.Figure at 0x7f896f70ff98>"
         },
         "metadata": {},
         "output_type": "display_data"
        }
       ]
      }
     },
     "b4c0b0d04dcf4f27ad4d0392f7e6bae0": {
      "model_module": "@jupyter-widgets/controls",
      "model_module_version": "1.0.0",
      "model_name": "IntSliderModel",
      "state": {
       "description": "I",
       "layout": "IPY_MODEL_c55e4dc5207848668d09a5e127611bd6",
       "max": 200,
       "min": 50,
       "step": 10,
       "style": "IPY_MODEL_affa1f2769124f5baf5a7ed25f6ec77e",
       "value": 120
      }
     },
     "b6f7aff570be44fdafb83368f34d329b": {
      "model_module": "@jupyter-widgets/controls",
      "model_module_version": "1.0.0",
      "model_name": "SliderStyleModel",
      "state": {
       "description_width": ""
      }
     },
     "bb5e8eefc3204f73920d12625f1d95fc": {
      "model_module": "@jupyter-widgets/controls",
      "model_module_version": "1.0.0",
      "model_name": "SliderStyleModel",
      "state": {
       "description_width": ""
      }
     },
     "bc91925dd9e64396ad8bc4749c9693ac": {
      "model_module": "@jupyter-widgets/controls",
      "model_module_version": "1.0.0",
      "model_name": "SliderStyleModel",
      "state": {
       "description_width": ""
      }
     },
     "bde0e3dcab9545f7b22ba8c46d538b9a": {
      "model_module": "@jupyter-widgets/controls",
      "model_module_version": "1.0.0",
      "model_name": "VBoxModel",
      "state": {
       "_dom_classes": [
        "widget-interact"
       ],
       "children": [
        "IPY_MODEL_a7a7925ae7dd4f31a4a7486dd306d54c",
        "IPY_MODEL_e8d49ec7629946149d2b52b1e0c1d534",
        "IPY_MODEL_92b1fc3d402b4ab08e20914fb379fccd",
        "IPY_MODEL_6eec82f3c44a412f8a94d95a1fef31aa"
       ],
       "layout": "IPY_MODEL_f44fce1a5e124d9491cc0e86f572d285"
      }
     },
     "c371ea911c62482984c803d3d05dc123": {
      "model_module": "@jupyter-widgets/base",
      "model_module_version": "1.0.0",
      "model_name": "LayoutModel",
      "state": {}
     },
     "c4fb49d6a2874bcdb46aa546e88e3638": {
      "model_module": "@jupyter-widgets/controls",
      "model_module_version": "1.0.0",
      "model_name": "VBoxModel",
      "state": {
       "_dom_classes": [
        "widget-interact"
       ],
       "children": [
        "IPY_MODEL_d7cc8c161a184604a26f286949a8b420",
        "IPY_MODEL_b4c0b0d04dcf4f27ad4d0392f7e6bae0",
        "IPY_MODEL_77fe8bef26974dd19326a43919269ebf",
        "IPY_MODEL_e84070c389c949318acb7fa0b0d73863"
       ],
       "layout": "IPY_MODEL_f01c1172a40442f69c52f9403631674d"
      }
     },
     "c527059bd94b43e6810f77266974e34b": {
      "model_module": "@jupyter-widgets/base",
      "model_module_version": "1.0.0",
      "model_name": "LayoutModel",
      "state": {}
     },
     "c55e4dc5207848668d09a5e127611bd6": {
      "model_module": "@jupyter-widgets/base",
      "model_module_version": "1.0.0",
      "model_name": "LayoutModel",
      "state": {}
     },
     "cb93bfed8064481b827770eb21f60b72": {
      "model_module": "@jupyter-widgets/base",
      "model_module_version": "1.0.0",
      "model_name": "LayoutModel",
      "state": {}
     },
     "d2276b297a55448f92b68386d9d86d37": {
      "model_module": "@jupyter-widgets/base",
      "model_module_version": "1.0.0",
      "model_name": "LayoutModel",
      "state": {}
     },
     "d7cc8c161a184604a26f286949a8b420": {
      "model_module": "@jupyter-widgets/controls",
      "model_module_version": "1.0.0",
      "model_name": "FloatSliderModel",
      "state": {
       "description": "p",
       "layout": "IPY_MODEL_6c5a994d297a4912b42ece1944e1bc14",
       "max": 2,
       "min": 0.2,
       "step": 0.1,
       "style": "IPY_MODEL_37274f8a84934d98bd99597db35ee51d",
       "value": 1.1
      }
     },
     "d7d079682a1945f29a64296e40050442": {
      "model_module": "@jupyter-widgets/base",
      "model_module_version": "1.0.0",
      "model_name": "LayoutModel",
      "state": {}
     },
     "dc84f9232c0b499d94df022fb3315122": {
      "model_module": "@jupyter-widgets/output",
      "model_module_version": "1.0.0",
      "model_name": "OutputModel",
      "state": {
       "layout": "IPY_MODEL_af554947227b4615b90b47ee589027c6",
       "outputs": [
        {
         "data": {
          "image/png": "iVBORw0KGgoAAAANSUhEUgAAAi0AAAImCAYAAACfLrqxAAAABHNCSVQICAgIfAhkiAAAAAlwSFlz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\nlIR2MwAAAABJRU5ErkJggg==\n",
          "text/plain": "<matplotlib.figure.Figure at 0x7f0372885fd0>"
         },
         "metadata": {},
         "output_type": "display_data"
        }
       ]
      }
     },
     "dd2f1cfea2db48ccbe995de3c8982a40": {
      "model_module": "@jupyter-widgets/base",
      "model_module_version": "1.0.0",
      "model_name": "LayoutModel",
      "state": {}
     },
     "e0b9b9cb633e4b458907e073aacb6bd2": {
      "model_module": "@jupyter-widgets/controls",
      "model_module_version": "1.0.0",
      "model_name": "VBoxModel",
      "state": {
       "_dom_classes": [
        "widget-interact"
       ],
       "children": [
        "IPY_MODEL_6af6b157475b4ea180703419e2c475ac",
        "IPY_MODEL_fd519c9a29804630b616f82e6c616b71",
        "IPY_MODEL_f8687742c1534acf9d804a33745d6624",
        "IPY_MODEL_75e98dbc17124938a87eac47bbeb5c05"
       ],
       "layout": "IPY_MODEL_145f47cd4dca405c9b05f659f3a590e0"
      }
     },
     "e17fbc9c109741a39a026829f3d1a8a9": {
      "model_module": "@jupyter-widgets/controls",
      "model_module_version": "1.0.0",
      "model_name": "SliderStyleModel",
      "state": {
       "description_width": ""
      }
     },
     "e5b445727efe42bd85439fcc001d569f": {
      "model_module": "@jupyter-widgets/base",
      "model_module_version": "1.0.0",
      "model_name": "LayoutModel",
      "state": {}
     },
     "e84070c389c949318acb7fa0b0d73863": {
      "model_module": "@jupyter-widgets/output",
      "model_module_version": "1.0.0",
      "model_name": "OutputModel",
      "state": {
       "layout": "IPY_MODEL_5b026c26cb7746739cc1caf128ea2657",
       "outputs": [
        {
         "data": {
          "text/plain": "array([ 54.54545455,  60.        ])"
         },
         "metadata": {},
         "output_type": "display_data"
        }
       ]
      }
     },
     "e8d49ec7629946149d2b52b1e0c1d534": {
      "model_module": "@jupyter-widgets/controls",
      "model_module_version": "1.0.0",
      "model_name": "IntSliderModel",
      "state": {
       "description": "I",
       "layout": "IPY_MODEL_c527059bd94b43e6810f77266974e34b",
       "max": 200,
       "min": 50,
       "step": 10,
       "style": "IPY_MODEL_65c96220ee334c7489cb915ab3fbf036",
       "value": 120
      }
     },
     "eedb012c3bfa45fc95e5d03c3f43bab9": {
      "model_module": "@jupyter-widgets/base",
      "model_module_version": "1.0.0",
      "model_name": "LayoutModel",
      "state": {}
     },
     "f01c1172a40442f69c52f9403631674d": {
      "model_module": "@jupyter-widgets/base",
      "model_module_version": "1.0.0",
      "model_name": "LayoutModel",
      "state": {}
     },
     "f26c87a73e1a46cdab576a0bbf1d5337": {
      "model_module": "@jupyter-widgets/controls",
      "model_module_version": "1.0.0",
      "model_name": "FloatSliderModel",
      "state": {
       "description": "p",
       "layout": "IPY_MODEL_89072b80ef224972897a5bdb03f63583",
       "max": 2,
       "min": 0.5,
       "step": 0.1,
       "style": "IPY_MODEL_a4901af4ccae43c4a894181d6e0f99b8",
       "value": 1.2000000000000002
      }
     },
     "f44fce1a5e124d9491cc0e86f572d285": {
      "model_module": "@jupyter-widgets/base",
      "model_module_version": "1.0.0",
      "model_name": "LayoutModel",
      "state": {}
     },
     "f8687742c1534acf9d804a33745d6624": {
      "model_module": "@jupyter-widgets/controls",
      "model_module_version": "1.0.0",
      "model_name": "FloatSliderModel",
      "state": {
       "description": "a",
       "layout": "IPY_MODEL_60c4fd922fb64defb01b950f6c918482",
       "max": 0.8,
       "min": 0.2,
       "step": 0.1,
       "style": "IPY_MODEL_377699d7928d42849d8646ec7e6bc971",
       "value": 0.6
      }
     },
     "facbc9b4dcec40ab97481f80a609ff2a": {
      "model_module": "@jupyter-widgets/controls",
      "model_module_version": "1.0.0",
      "model_name": "SliderStyleModel",
      "state": {
       "description_width": ""
      }
     },
     "fd519c9a29804630b616f82e6c616b71": {
      "model_module": "@jupyter-widgets/controls",
      "model_module_version": "1.0.0",
      "model_name": "IntSliderModel",
      "state": {
       "description": "I",
       "layout": "IPY_MODEL_eedb012c3bfa45fc95e5d03c3f43bab9",
       "max": 200,
       "min": 50,
       "step": 10,
       "style": "IPY_MODEL_997ffb1cbac943d69392ba346977fd9f",
       "value": 110
      }
     },
     "fe1a0fbd1a4f43598976ddd6a62f4e70": {
      "model_module": "@jupyter-widgets/base",
      "model_module_version": "1.0.0",
      "model_name": "LayoutModel",
      "state": {}
     },
     "fe47883366c247c1a289cee4726f01b8": {
      "model_module": "@jupyter-widgets/controls",
      "model_module_version": "1.0.0",
      "model_name": "IntSliderModel",
      "state": {
       "description": "I",
       "layout": "IPY_MODEL_4ef6c6717ff8429ab947286f5371ec89",
       "max": 150,
       "min": 50,
       "step": 10,
       "style": "IPY_MODEL_bc91925dd9e64396ad8bc4749c9693ac",
       "value": 100
      }
     }
    },
    "version_major": 2,
    "version_minor": 0
   }
  }
 },
 "nbformat": 4,
 "nbformat_minor": 2
}
