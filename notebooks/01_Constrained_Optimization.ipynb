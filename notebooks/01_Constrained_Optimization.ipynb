{
 "cells": [
  {
   "cell_type": "markdown",
   "metadata": {
    "slideshow": {
     "slide_type": "slide"
    }
   },
   "source": [
    "# Notes on Constrained Optimization\n",
    "## Analytical and numerical approaches\n",
    "\n",
    "This notebook contains some interactive graphical examples and a simple sample numerical constrained optimization.  This notebook uses widgets from the ipywidgets library which will not be rendered in a static view. You may need to run the whole notebook for the figures to become visible."
   ]
  },
  {
   "cell_type": "code",
   "execution_count": 1,
   "metadata": {
    "collapsed": true,
    "slideshow": {
     "slide_type": "skip"
    }
   },
   "outputs": [],
   "source": [
    "%matplotlib inline\n",
    "import matplotlib.pyplot as plt\n",
    "plt.style.use('seaborn-whitegrid')\n",
    "import numpy as np\n",
    "from scipy.optimize import minimize\n",
    "\n",
    "from mpl_toolkits.mplot3d import *\n",
    "from matplotlib import cm\n",
    "from ipywidgets import interact"
   ]
  },
  {
   "cell_type": "markdown",
   "metadata": {
    "slideshow": {
     "slide_type": "slide"
    }
   },
   "source": [
    "### Consumer's optimization problem:\n",
    "\n",
    "$$\\max_{x_0,x_1} U(x_0,x_1) $$\n",
    "\n",
    "subject to a budget constraint\n",
    "\n",
    "$$p x_0 + x_1 \\leq I $$"
   ]
  },
  {
   "cell_type": "markdown",
   "metadata": {
    "slideshow": {
     "slide_type": "fragment"
    }
   },
   "source": [
    "where $p=\\frac{p_{0}}{p_{1}}$"
   ]
  },
  {
   "cell_type": "markdown",
   "metadata": {
    "slideshow": {
     "slide_type": "skip"
    }
   },
   "source": [
    "Let's make some parameter assumptions for the default examples and diagrams below."
   ]
  },
  {
   "cell_type": "code",
   "execution_count": 2,
   "metadata": {
    "collapsed": true,
    "slideshow": {
     "slide_type": "skip"
    }
   },
   "outputs": [],
   "source": [
    "alpha = 0.6\n",
    "p = 1\n",
    "I = 100"
   ]
  },
  {
   "cell_type": "markdown",
   "metadata": {
    "slideshow": {
     "slide_type": "skip"
    }
   },
   "source": [
    "Now define the utility function and budget constraint"
   ]
  },
  {
   "cell_type": "code",
   "execution_count": 3,
   "metadata": {
    "collapsed": true,
    "slideshow": {
     "slide_type": "subslide"
    }
   },
   "outputs": [],
   "source": [
    "# useful for plots and calculations\n",
    "def budgetc(c0,p,I):\n",
    "    '''c1 as a function of c0 along budget line'''\n",
    "    return I - p*c0\n",
    "\n",
    "def U(c, a=alpha):\n",
    "    '''Utility at c=(c[0], c[1])'''\n",
    "    return (c[0]**a)*(c[1]**(1-a))\n",
    "\n",
    "def MU0(c, a=alpha):\n",
    "    '''MU of Cobb-Douglas'''\n",
    "    return  a*U(c,a)/c[0] \n",
    "\n",
    "def MU1(c, a=alpha):\n",
    "    return  (1-a)*U(c,a)/c[1]\n",
    "\n",
    "def indif(c0, ubar, a=alpha):\n",
    "    '''c1 as function of c0, implicitly defined by U(c0, c1) = ubar'''\n",
    "    return (ubar/(c0**a))**(1/(1-a))"
   ]
  },
  {
   "cell_type": "markdown",
   "metadata": {},
   "source": [
    "For this Cobb-Douglas we can get easy analytical solutions that give us the Marshallian demands:\n",
    "\n",
    "$$x_0^* = \\alpha \\cdot \\frac{I}{p}$$\n",
    "\n",
    "$$x_1^* = (1-\\alpha) \\cdot I$$\n",
    "\n",
    "Here is a function that given prices, income and share parameter, returns a vector of Marshallian demands $[x_0^*, x_1^*]$, along with the maximized level of utility $Ux_0^*, x_1^*)$."
   ]
  },
  {
   "cell_type": "code",
   "execution_count": 4,
   "metadata": {
    "collapsed": true,
    "slideshow": {
     "slide_type": "skip"
    }
   },
   "outputs": [],
   "source": [
    "def ademands(p,I,a =alpha):\n",
    "    '''Analytic solution for interior optimum'''\n",
    "    c0 = a * I/p\n",
    "    c1 = (1-a)*I\n",
    "    c = [c0,c1]\n",
    "    uopt = U(c,a)\n",
    "    return c, uopt"
   ]
  },
  {
   "cell_type": "code",
   "execution_count": 5,
   "metadata": {
    "collapsed": true,
    "slideshow": {
     "slide_type": "skip"
    }
   },
   "outputs": [],
   "source": [
    "pmin, pmax = 1, 4\n",
    "Imin, Imax = 10, 200\n",
    "cmax = (3/4)*Imax/pmin\n",
    "c0 = np.linspace(0.1,cmax,num=100)"
   ]
  },
  {
   "cell_type": "code",
   "execution_count": 6,
   "metadata": {
    "collapsed": true,
    "slideshow": {
     "slide_type": "skip"
    }
   },
   "outputs": [],
   "source": [
    "def consume_plot(p, I, a=alpha):\n",
    "    ce, uebar = ademands(p, I, a)\n",
    "    fig, ax = plt.subplots(figsize=(9,9))\n",
    "    ax.plot(c0, budgetc(c0, p, I), lw=2.5)\n",
    "    ax.fill_between(c0, budgetc(c0, p, I), alpha = 0.2)\n",
    "    ax.plot(c0, indif(c0, uebar, a), lw=2.5)\n",
    "    ax.vlines(ce[0],0,ce[1], linestyles=\"dashed\")\n",
    "    ax.hlines(ce[1],0,ce[0], linestyles=\"dashed\")\n",
    "    ax.plot(ce[0],ce[1],'ob')\n",
    "    ax.set_xlim(0, cmax)\n",
    "    ax.set_ylim(0, cmax)\n",
    "    ax.set_xlabel(r'$c_0$', fontsize=16)\n",
    "    ax.set_ylabel('$c_1$', fontsize=16)\n",
    "    ax.spines['right'].set_visible(False)\n",
    "    ax.spines['top'].set_visible(False)\n",
    "    plt.show()"
   ]
  },
  {
   "cell_type": "markdown",
   "metadata": {
    "slideshow": {
     "slide_type": "slide"
    }
   },
   "source": [
    "Cobb-Douglas utility:  $U(c_0,c_1) = c_0^a \\cdot c_1^{1-a}$"
   ]
  },
  {
   "cell_type": "code",
   "execution_count": 7,
   "metadata": {
    "slideshow": {
     "slide_type": "fragment"
    }
   },
   "outputs": [
    {
     "data": {
      "application/vnd.jupyter.widget-view+json": {
       "model_id": "fd0f770bb0a249a4a4be718eb0e3cddf"
      }
     },
     "metadata": {},
     "output_type": "display_data"
    }
   ],
   "source": [
    "interact(consume_plot, p=(0.5,2,0.1), I=(50,150,10), a=(0.1,0.9,0.1));"
   ]
  },
  {
   "cell_type": "code",
   "execution_count": 8,
   "metadata": {
    "collapsed": true,
    "slideshow": {
     "slide_type": "skip"
    }
   },
   "outputs": [],
   "source": [
    "def arb_plot(c0g):\n",
    "    cg = [c0g,I-c0g]\n",
    "    '''Display characteristics of a guess along the constraint'''\n",
    "    fig, ax = plt.subplots(figsize=(9,9))\n",
    "    ax.plot(c0, budgetc(c0, p, I), lw=1)\n",
    "    ax.fill_between(c0, budgetc(c0, p, I), alpha = 0.2)\n",
    "    ax.plot(c0, indif(c0, U(cg)), lw=2.5)\n",
    "    ax.vlines(cg[0],0,cg[1], linestyles=\"dashed\")\n",
    "    ax.hlines(cg[1],0,cg[0], linestyles=\"dashed\")\n",
    "    ax.plot(cg[0],cg[1],'ob')\n",
    "    mu0pd, mu1pd = MU0(cg), MU1(cg)/p\n",
    "    if mu0pd > mu1pd:\n",
    "        inq = r'$>$'\n",
    "    elif mu0pd < mu1pd:\n",
    "        inq = r'$<$'\n",
    "    else:\n",
    "        inq =r'$=$'\n",
    "    ax.text(60, 120, r'$\\frac{MU_0}{p_0}$'+inq+r'$\\frac{MU_1}{p_1}$',fontsize=20)\n",
    "    utext = r'$({:5.1f}, {:5.1f}) \\ \\ U={:5.3f}$'.format(cg[0], cg[1], U(cg))\n",
    "    ax.text(60, 100, utext, fontsize=12)\n",
    "    ax.set_xlim(0, cmax)\n",
    "    ax.set_ylim(0, cmax)\n",
    "    ax.set_xlabel(r'$c_0$', fontsize=16)\n",
    "    ax.set_ylabel('$c_1$', fontsize=16)\n",
    "    ax.spines['right'].set_visible(False)\n",
    "    ax.spines['top'].set_visible(False)\n",
    "    ax.set_title('The No-Arbitrage argument')\n",
    "    plt.show()"
   ]
  },
  {
   "cell_type": "markdown",
   "metadata": {
    "slideshow": {
     "slide_type": "slide"
    }
   },
   "source": [
    "## The 'no-arbitrage' argument \n",
    "Move the slider to move the consumption point along the budget line. Keep adjusting until we reach the highest indifference curve at a tangency point."
   ]
  },
  {
   "cell_type": "code",
   "execution_count": 9,
   "metadata": {
    "slideshow": {
     "slide_type": "-"
    }
   },
   "outputs": [
    {
     "data": {
      "application/vnd.jupyter.widget-view+json": {
       "model_id": "47e1c488f3a14ac4bca317a47f0dda9d"
      }
     },
     "metadata": {},
     "output_type": "display_data"
    }
   ],
   "source": [
    "interact(arb_plot, c0g=(1,I,0.1));"
   ]
  },
  {
   "cell_type": "markdown",
   "metadata": {
    "slideshow": {
     "slide_type": "slide"
    }
   },
   "source": [
    "# Numerical constrained optimization\n",
    "\n",
    "The problem we have been solving can be easily solved analytically (i.e. we can derive formulas for Marshallian demands) but it's useful to also see how this type of constrained optimization problem can be solved numerically using the Scipy opimize library."
   ]
  },
  {
   "cell_type": "code",
   "execution_count": 10,
   "metadata": {
    "collapsed": true
   },
   "outputs": [],
   "source": [
    "from scipy.optimize import minimize"
   ]
  },
  {
   "cell_type": "markdown",
   "metadata": {},
   "source": [
    "If we choose good one to be the numeraire (i.e. set $p_1=1$) then the budget constraint \n",
    "\n",
    "$$p_0 x_0 + p_1 x_1 = I $$\n",
    "\n",
    "can be rewritten \n",
    "\n",
    "$$p x_0 + x_1 = I $$\n",
    "\n",
    "where $p=\\frac{p_0}{p_1}$ is the relative price of good 0 (i.e. how many units of good 1 must be exchange for one unit of good 0).  \n",
    "\n",
    "The `minimize` function will want us to pass in constraints expressed in a way similar to the way we use them inside a Lagrangian. In our case the problem is:\n",
    "\n",
    "$$\\max L(x_0, x_1, I, \\lambda) = u(x_0, x_1) + \\lambda (p x_0 + x_1 - I) $$\n",
    "\n",
    "The budget function defines the constraint as a function of $x=(x_0, x_1)$.  What we actually pass to the `minimize` function is a small dictionary with 'type' and 'fun' keys.  The 'type refers to whether it is an equality or inequality constraint and the 'fun' points to the budget function we've defined."
   ]
  },
  {
   "cell_type": "markdown",
   "metadata": {},
   "source": [
    "We are going to wrap all of this inside a function `optimum(p, I)` to allow us to find an optimum for any given price vector $p$ and income  $I$"
   ]
  },
  {
   "cell_type": "code",
   "execution_count": 11,
   "metadata": {
    "collapsed": true
   },
   "outputs": [],
   "source": [
    "def demands(p, I, a= alpha):\n",
    "    \n",
    "    def budget(x):\n",
    "        return np.array([p*x[0] + x[1] - I])\n",
    "    \n",
    "    def negU(x):\n",
    "        return -U(x, a)\n",
    "\n",
    "    x = np.array([(I/2)/p, (I/2)])  # initial guess - spend half I on each good\n",
    "    \n",
    "    ux = minimize(negU, x, constraints = ({'type': 'eq', 'fun' : budget }) )\n",
    "    \n",
    "    return ux.x\n",
    "    "
   ]
  },
  {
   "cell_type": "markdown",
   "metadata": {},
   "source": [
    "It looks like it works. Suppose $p=1, I=100$ and the Cobb-Douglass share parameter is $\\alpha = 0.7$), then demand for $x_0$ and x_1$ are found to be:"
   ]
  },
  {
   "cell_type": "code",
   "execution_count": 12,
   "metadata": {
    "slideshow": {
     "slide_type": "subslide"
    }
   },
   "outputs": [
    {
     "data": {
      "text/plain": [
       "(40.000030505037259, 59.999969494962741, 51.016980025021738)"
      ]
     },
     "execution_count": 12,
     "metadata": {},
     "output_type": "execute_result"
    }
   ],
   "source": [
    "[x0opt, x1opt] = demands(1, 100, 0.4)\n",
    "\n",
    "x0opt, x1opt, U([x0opt, x1opt], 0.4)"
   ]
  },
  {
   "cell_type": "markdown",
   "metadata": {},
   "source": [
    "This is very close to the exact analytical solution but the solver sometimes stops just short of the true optimum (if we wanted to we could get much closer by setting a higher tolerance threshold in the minimize solver)"
   ]
  },
  {
   "cell_type": "code",
   "execution_count": 13,
   "metadata": {},
   "outputs": [
    {
     "data": {
      "text/plain": [
       "([40.0, 60.0], 51.01698002503163)"
      ]
     },
     "execution_count": 13,
     "metadata": {},
     "output_type": "execute_result"
    }
   ],
   "source": [
    "ademands(1,100, 0.4)"
   ]
  },
  {
   "cell_type": "markdown",
   "metadata": {},
   "source": [
    "Finally let's setup a simple widget to let us see how "
   ]
  },
  {
   "cell_type": "code",
   "execution_count": 14,
   "metadata": {},
   "outputs": [
    {
     "data": {
      "application/vnd.jupyter.widget-view+json": {
       "model_id": "064ea9c85662449fae9d916fe97b640f"
      }
     },
     "metadata": {},
     "output_type": "display_data"
    }
   ],
   "source": [
    "interact(demands, p=(0.2,2,0.1), I = (50, 200, 10), a =(0.2, 0.8, 0.1));"
   ]
  }
 ],
 "metadata": {
  "hide_input": false,
  "kernelspec": {
   "display_name": "Python [default]",
   "language": "python",
   "name": "python3"
  },
  "language_info": {
   "codemirror_mode": {
    "name": "ipython",
    "version": 3
   },
   "file_extension": ".py",
   "mimetype": "text/x-python",
   "name": "python",
   "nbconvert_exporter": "python",
   "pygments_lexer": "ipython3",
   "version": "3.6.2"
  },
  "toc": {
   "colors": {
    "hover_highlight": "#DAA520",
    "navigate_num": "#000000",
    "navigate_text": "#333333",
    "running_highlight": "#FF0000",
    "selected_highlight": "#FFD700",
    "sidebar_border": "#EEEEEE",
    "wrapper_background": "#FFFFFF"
   },
   "moveMenuLeft": true,
   "nav_menu": {
    "height": "119px",
    "width": "252px"
   },
   "navigate_menu": true,
   "number_sections": true,
   "sideBar": true,
   "threshold": 4,
   "toc_cell": false,
   "toc_section_display": "block",
   "toc_window_display": false,
   "widenNotebook": false
  },
  "varInspector": {
   "cols": {
    "lenName": 16,
    "lenType": 16,
    "lenVar": 40
   },
   "kernels_config": {
    "python": {
     "delete_cmd_postfix": "",
     "delete_cmd_prefix": "del ",
     "library": "var_list.py",
     "varRefreshCmd": "print(var_dic_list())"
    },
    "r": {
     "delete_cmd_postfix": ") ",
     "delete_cmd_prefix": "rm(",
     "library": "var_list.r",
     "varRefreshCmd": "cat(var_dic_list()) "
    }
   },
   "types_to_exclude": [
    "module",
    "function",
    "builtin_function_or_method",
    "instance",
    "_Feature"
   ],
   "window_display": false
  },
  "widgets": {
   "application/vnd.jupyter.widget-state+json": {
    "state": {
     "03cf926a2e084f34b5f6873f58d242b3": {
      "model_module": "jupyter-js-widgets",
      "model_module_version": "~2.1.4",
      "model_name": "LayoutModel",
      "state": {
       "_model_module_version": "~2.1.4",
       "_view_module_version": "~2.1.4"
      }
     },
     "064ea9c85662449fae9d916fe97b640f": {
      "model_module": "jupyter-js-widgets",
      "model_module_version": "~2.1.4",
      "model_name": "VBoxModel",
      "state": {
       "_dom_classes": [
        "widget-interact"
       ],
       "_model_module_version": "~2.1.4",
       "_view_module_version": "~2.1.4",
       "children": [
        "IPY_MODEL_138ac116283c4e7d929b5a3b0f57bcb3",
        "IPY_MODEL_67f811b376b54581bdee45155f6a7ef2",
        "IPY_MODEL_2cfa115b2d774d1eb2ce9039b8989fd7",
        "IPY_MODEL_9013467863504b97b9711cf41e3f29ea"
       ],
       "layout": "IPY_MODEL_1d75d273bba2449d8af7e37cd6b499d7"
      }
     },
     "094f470f4f6649c68f88b6b27bbb7b60": {
      "model_module": "jupyter-js-widgets",
      "model_module_version": "~2.1.4",
      "model_name": "IntSliderModel",
      "state": {
       "_model_module_version": "~2.1.4",
       "_view_module_version": "~2.1.4",
       "description": "I",
       "layout": "IPY_MODEL_4a9df9e37204415dba79f72d4afaca98",
       "max": 200,
       "min": 50,
       "step": 10,
       "style": "IPY_MODEL_6f251514fbe4475e96960afb9c5a9902",
       "value": 150
      }
     },
     "138ac116283c4e7d929b5a3b0f57bcb3": {
      "model_module": "jupyter-js-widgets",
      "model_module_version": "~2.1.4",
      "model_name": "FloatSliderModel",
      "state": {
       "_model_module_version": "~2.1.4",
       "_view_module_version": "~2.1.4",
       "description": "p",
       "layout": "IPY_MODEL_59605589006947548638b65d013388b5",
       "max": 2,
       "min": 0.2,
       "step": 0.1,
       "value": 1.1
      }
     },
     "1d75d273bba2449d8af7e37cd6b499d7": {
      "model_module": "jupyter-js-widgets",
      "model_module_version": "~2.1.4",
      "model_name": "LayoutModel",
      "state": {
       "_model_module_version": "~2.1.4",
       "_view_module_version": "~2.1.4"
      }
     },
     "20aaaeac7698408db5f08c6f8a71fe8d": {
      "model_module": "jupyter-js-widgets",
      "model_module_version": "~2.1.4",
      "model_name": "OutputModel",
      "state": {
       "_dom_classes": [],
       "_model_module": "jupyter-js-widgets",
       "_model_module_version": "~2.1.4",
       "_view_module": "jupyter-js-widgets",
       "_view_module_version": "~2.1.4",
       "layout": "IPY_MODEL_a0cb99ec5fd14b629c15faf23061138d",
       "msg_throttle": 1
      }
     },
     "24eb067952ba4aacbf45d9bcc873287f": {
      "model_module": "jupyter-js-widgets",
      "model_module_version": "~2.1.4",
      "model_name": "OutputModel",
      "state": {
       "_dom_classes": [],
       "_model_module": "jupyter-js-widgets",
       "_model_module_version": "~2.1.4",
       "_view_module": "jupyter-js-widgets",
       "_view_module_version": "~2.1.4",
       "layout": "IPY_MODEL_789ca9bdfab0453a9d7680fcf940beb3",
       "msg_throttle": 1
      }
     },
     "2c60942d35e844369c4a89cd5c931519": {
      "model_module": "jupyter-js-widgets",
      "model_module_version": "~2.1.4",
      "model_name": "SliderStyleModel",
      "state": {
       "_model_module_version": "~2.1.4",
       "_view_module_version": "~2.1.4"
      }
     },
     "2cfa115b2d774d1eb2ce9039b8989fd7": {
      "model_module": "jupyter-js-widgets",
      "model_module_version": "~2.1.4",
      "model_name": "FloatSliderModel",
      "state": {
       "_model_module_version": "~2.1.4",
       "_view_module_version": "~2.1.4",
       "description": "a",
       "layout": "IPY_MODEL_303c5b488f6440b9868629c8a1ebf0c6",
       "max": 0.8,
       "min": 0.2,
       "step": 0.1,
       "value": 0.6
      }
     },
     "303c5b488f6440b9868629c8a1ebf0c6": {
      "model_module": "jupyter-js-widgets",
      "model_module_version": "~2.1.4",
      "model_name": "LayoutModel",
      "state": {
       "_model_module_version": "~2.1.4",
       "_view_module_version": "~2.1.4"
      }
     },
     "33e77c1ec0f64526b75ab13c4c38c708": {
      "model_module": "jupyter-js-widgets",
      "model_module_version": "~2.1.4",
      "model_name": "VBoxModel",
      "state": {
       "_dom_classes": [
        "widget-interact"
       ],
       "_model_module_version": "~2.1.4",
       "_view_module_version": "~2.1.4",
       "children": [
        "IPY_MODEL_9e676ba9885f4011a70e9cfa1d4814c5",
        "IPY_MODEL_dfe64a110cb446ee94636d474a470cd1"
       ],
       "layout": "IPY_MODEL_36e740ef7f4a461c9e952de8b98004c1"
      }
     },
     "356e4b9845a04111aaf32ede5c0bb742": {
      "model_module": "jupyter-js-widgets",
      "model_module_version": "~2.1.4",
      "model_name": "FloatSliderModel",
      "state": {
       "_model_module_version": "~2.1.4",
       "_view_module_version": "~2.1.4",
       "description": "a",
       "layout": "IPY_MODEL_8c3f851e06424a60972a7d39db228ec8",
       "max": 0.9,
       "min": 0.1,
       "step": 0.1,
       "value": 0.5
      }
     },
     "36e740ef7f4a461c9e952de8b98004c1": {
      "model_module": "jupyter-js-widgets",
      "model_module_version": "~2.1.4",
      "model_name": "LayoutModel",
      "state": {
       "_model_module_version": "~2.1.4",
       "_view_module_version": "~2.1.4"
      }
     },
     "394c09a8a68f48fbae8e234a22ff28b3": {
      "model_module": "jupyter-js-widgets",
      "model_module_version": "~2.1.4",
      "model_name": "LayoutModel",
      "state": {
       "_model_module_version": "~2.1.4",
       "_view_module_version": "~2.1.4"
      }
     },
     "3b47733435424f6bbfe981bafec7cc7b": {
      "model_module": "jupyter-js-widgets",
      "model_module_version": "~2.1.4",
      "model_name": "SliderStyleModel",
      "state": {
       "_model_module_version": "~2.1.4",
       "_view_module_version": "~2.1.4"
      }
     },
     "3cc82ab9728647ed9fd526cb957de4ce": {
      "model_module": "jupyter-js-widgets",
      "model_module_version": "~2.1.4",
      "model_name": "LayoutModel",
      "state": {
       "_model_module_version": "~2.1.4",
       "_view_module_version": "~2.1.4"
      }
     },
     "47e1c488f3a14ac4bca317a47f0dda9d": {
      "model_module": "jupyter-js-widgets",
      "model_module_version": "~2.1.4",
      "model_name": "VBoxModel",
      "state": {
       "_dom_classes": [
        "widget-interact"
       ],
       "_model_module_version": "~2.1.4",
       "_view_module_version": "~2.1.4",
       "children": [
        "IPY_MODEL_a56a2656ffee40a9a8ef27cf6be6a5e9",
        "IPY_MODEL_eafcba014c0049528042824b9ae7ae2e"
       ],
       "layout": "IPY_MODEL_6995674287c246cc9b554ab42fedb30e"
      }
     },
     "4a9df9e37204415dba79f72d4afaca98": {
      "model_module": "jupyter-js-widgets",
      "model_module_version": "~2.1.4",
      "model_name": "LayoutModel",
      "state": {
       "_model_module_version": "~2.1.4",
       "_view_module_version": "~2.1.4"
      }
     },
     "4aeb78e887604375841ef96f9a7728db": {
      "model_module": "jupyter-js-widgets",
      "model_module_version": "~2.1.4",
      "model_name": "LayoutModel",
      "state": {
       "_model_module_version": "~2.1.4",
       "_view_module_version": "~2.1.4"
      }
     },
     "59605589006947548638b65d013388b5": {
      "model_module": "jupyter-js-widgets",
      "model_module_version": "~2.1.4",
      "model_name": "LayoutModel",
      "state": {
       "_model_module_version": "~2.1.4",
       "_view_module_version": "~2.1.4"
      }
     },
     "5a61a5aa775c4883b4f4a863c653b312": {
      "model_module": "jupyter-js-widgets",
      "model_module_version": "~2.1.4",
      "model_name": "LayoutModel",
      "state": {
       "_model_module_version": "~2.1.4",
       "_view_module_version": "~2.1.4"
      }
     },
     "5c48505d651b4eb186ed55c5fcc2c735": {
      "model_module": "jupyter-js-widgets",
      "model_module_version": "~2.1.4",
      "model_name": "IntSliderModel",
      "state": {
       "_model_module_version": "~2.1.4",
       "_view_module_version": "~2.1.4",
       "description": "I",
       "layout": "IPY_MODEL_dab93e5de107484fa107729cdbca4473",
       "max": 150,
       "min": 50,
       "step": 10,
       "style": "IPY_MODEL_2c60942d35e844369c4a89cd5c931519",
       "value": 150
      }
     },
     "5e5e4486f5bb4841adbeaf0636572275": {
      "model_module": "jupyter-js-widgets",
      "model_module_version": "~2.1.4",
      "model_name": "LayoutModel",
      "state": {
       "_model_module_version": "~2.1.4",
       "_view_module_version": "~2.1.4"
      }
     },
     "67f811b376b54581bdee45155f6a7ef2": {
      "model_module": "jupyter-js-widgets",
      "model_module_version": "~2.1.4",
      "model_name": "IntSliderModel",
      "state": {
       "_model_module_version": "~2.1.4",
       "_view_module_version": "~2.1.4",
       "description": "I",
       "layout": "IPY_MODEL_c26b25c962a349acbcb325368e268a2e",
       "max": 200,
       "min": 50,
       "step": 10,
       "style": "IPY_MODEL_a7f748292e1949698e9ba68324e1cf1e",
       "value": 120
      }
     },
     "6995674287c246cc9b554ab42fedb30e": {
      "model_module": "jupyter-js-widgets",
      "model_module_version": "~2.1.4",
      "model_name": "LayoutModel",
      "state": {
       "_model_module_version": "~2.1.4",
       "_view_module_version": "~2.1.4"
      }
     },
     "6f251514fbe4475e96960afb9c5a9902": {
      "model_module": "jupyter-js-widgets",
      "model_module_version": "~2.1.4",
      "model_name": "SliderStyleModel",
      "state": {
       "_model_module_version": "~2.1.4",
       "_view_module_version": "~2.1.4"
      }
     },
     "6f3e6ebbb5b14de5b4741f27c30af70d": {
      "model_module": "jupyter-js-widgets",
      "model_module_version": "~2.1.4",
      "model_name": "LayoutModel",
      "state": {
       "_model_module_version": "~2.1.4",
       "_view_module_version": "~2.1.4"
      }
     },
     "789ca9bdfab0453a9d7680fcf940beb3": {
      "model_module": "jupyter-js-widgets",
      "model_module_version": "~2.1.4",
      "model_name": "LayoutModel",
      "state": {
       "_model_module_version": "~2.1.4",
       "_view_module_version": "~2.1.4"
      }
     },
     "7b155e43bbc646d3b7909e0914db0e5c": {
      "model_module": "jupyter-js-widgets",
      "model_module_version": "~2.1.4",
      "model_name": "FloatSliderModel",
      "state": {
       "_model_module_version": "~2.1.4",
       "_view_module_version": "~2.1.4",
       "description": "p",
       "layout": "IPY_MODEL_84d739eedf4b4addab570f0a9bc3a954",
       "max": 2,
       "min": 0.2,
       "step": 0.1,
       "value": 1.6
      }
     },
     "7b97f59127f24b8c9e7a69bc6c57f29c": {
      "model_module": "jupyter-js-widgets",
      "model_module_version": "~2.1.4",
      "model_name": "LayoutModel",
      "state": {
       "_model_module_version": "~2.1.4",
       "_view_module_version": "~2.1.4"
      }
     },
     "7d60aa3a65ec4e8f915255270e21264c": {
      "model_module": "jupyter-js-widgets",
      "model_module_version": "~2.1.4",
      "model_name": "LayoutModel",
      "state": {
       "_model_module_version": "~2.1.4",
       "_view_module_version": "~2.1.4"
      }
     },
     "82813221b24c42a3859cce8776acd85e": {
      "model_module": "jupyter-js-widgets",
      "model_module_version": "~2.1.4",
      "model_name": "LayoutModel",
      "state": {
       "_model_module_version": "~2.1.4",
       "_view_module_version": "~2.1.4"
      }
     },
     "841d8792d23d4017be6147a0f3475752": {
      "model_module": "jupyter-js-widgets",
      "model_module_version": "~2.1.4",
      "model_name": "LayoutModel",
      "state": {
       "_model_module_version": "~2.1.4",
       "_view_module_version": "~2.1.4"
      }
     },
     "84d739eedf4b4addab570f0a9bc3a954": {
      "model_module": "jupyter-js-widgets",
      "model_module_version": "~2.1.4",
      "model_name": "LayoutModel",
      "state": {
       "_model_module_version": "~2.1.4",
       "_view_module_version": "~2.1.4"
      }
     },
     "86c6d45fee634ab4bae92e8078aa708d": {
      "model_module": "jupyter-js-widgets",
      "model_module_version": "~2.1.4",
      "model_name": "LayoutModel",
      "state": {
       "_model_module_version": "~2.1.4",
       "_view_module_version": "~2.1.4"
      }
     },
     "8c3f851e06424a60972a7d39db228ec8": {
      "model_module": "jupyter-js-widgets",
      "model_module_version": "~2.1.4",
      "model_name": "LayoutModel",
      "state": {
       "_model_module_version": "~2.1.4",
       "_view_module_version": "~2.1.4"
      }
     },
     "9013467863504b97b9711cf41e3f29ea": {
      "model_module": "jupyter-js-widgets",
      "model_module_version": "~2.1.4",
      "model_name": "OutputModel",
      "state": {
       "_dom_classes": [],
       "_model_module": "jupyter-js-widgets",
       "_model_module_version": "~2.1.4",
       "_view_module": "jupyter-js-widgets",
       "_view_module_version": "~2.1.4",
       "layout": "IPY_MODEL_c71b656a09e34e07b21dffbf7f7a8c32",
       "msg_throttle": 1
      }
     },
     "909e6610225e4820a97ed5e37f6dbaff": {
      "model_module": "jupyter-js-widgets",
      "model_module_version": "~2.1.4",
      "model_name": "LayoutModel",
      "state": {
       "_model_module_version": "~2.1.4",
       "_view_module_version": "~2.1.4"
      }
     },
     "96255db2342349738bbed1f9405e1476": {
      "model_module": "jupyter-js-widgets",
      "model_module_version": "~2.1.4",
      "model_name": "FloatSliderModel",
      "state": {
       "_model_module_version": "~2.1.4",
       "_view_module_version": "~2.1.4",
       "description": "p",
       "layout": "IPY_MODEL_82813221b24c42a3859cce8776acd85e",
       "max": 2,
       "min": 0.2,
       "step": 0.1,
       "value": 1.1
      }
     },
     "97fac39e6cd7495d88e3916ce199081f": {
      "model_module": "jupyter-js-widgets",
      "model_module_version": "~2.1.4",
      "model_name": "FloatSliderModel",
      "state": {
       "_model_module_version": "~2.1.4",
       "_view_module_version": "~2.1.4",
       "description": "a",
       "layout": "IPY_MODEL_86c6d45fee634ab4bae92e8078aa708d",
       "max": 0.9,
       "min": 0.1,
       "step": 0.1,
       "value": 0.6
      }
     },
     "987e9ffda86e47b9951be0d8d0c07a4b": {
      "model_module": "jupyter-js-widgets",
      "model_module_version": "~2.1.4",
      "model_name": "VBoxModel",
      "state": {
       "_dom_classes": [
        "widget-interact"
       ],
       "_model_module_version": "~2.1.4",
       "_view_module_version": "~2.1.4",
       "children": [
        "IPY_MODEL_ee282882f97849fba4b9859bfdb95465",
        "IPY_MODEL_5c48505d651b4eb186ed55c5fcc2c735",
        "IPY_MODEL_356e4b9845a04111aaf32ede5c0bb742",
        "IPY_MODEL_da75b08390004e2c8317cedf50737056"
       ],
       "layout": "IPY_MODEL_ccd858f84dff48108cfa82478a8a90ac"
      }
     },
     "9e676ba9885f4011a70e9cfa1d4814c5": {
      "model_module": "jupyter-js-widgets",
      "model_module_version": "~2.1.4",
      "model_name": "FloatSliderModel",
      "state": {
       "_model_module_version": "~2.1.4",
       "_view_module_version": "~2.1.4",
       "description": "c0g",
       "layout": "IPY_MODEL_f131949f999542018f247d2cdb7dc291",
       "min": 1,
       "step": 0.1,
       "value": 71.1
      }
     },
     "a0cb99ec5fd14b629c15faf23061138d": {
      "model_module": "jupyter-js-widgets",
      "model_module_version": "~2.1.4",
      "model_name": "LayoutModel",
      "state": {
       "_model_module_version": "~2.1.4",
       "_view_module_version": "~2.1.4"
      }
     },
     "a56a2656ffee40a9a8ef27cf6be6a5e9": {
      "model_module": "jupyter-js-widgets",
      "model_module_version": "~2.1.4",
      "model_name": "FloatSliderModel",
      "state": {
       "_model_module_version": "~2.1.4",
       "_view_module_version": "~2.1.4",
       "description": "c0g",
       "layout": "IPY_MODEL_e43df0c97964468f9bc4f1a38d1665da",
       "min": 1,
       "step": 0.1,
       "value": 50
      }
     },
     "a5b7ef60f25d437692b5ba63c5bebe5a": {
      "model_module": "jupyter-js-widgets",
      "model_module_version": "~2.1.4",
      "model_name": "FloatSliderModel",
      "state": {
       "_model_module_version": "~2.1.4",
       "_view_module_version": "~2.1.4",
       "description": "p",
       "layout": "IPY_MODEL_03cf926a2e084f34b5f6873f58d242b3",
       "max": 2,
       "min": 0.5,
       "step": 0.1,
       "value": 1.2000000000000002
      }
     },
     "a7f748292e1949698e9ba68324e1cf1e": {
      "model_module": "jupyter-js-widgets",
      "model_module_version": "~2.1.4",
      "model_name": "SliderStyleModel",
      "state": {
       "_model_module_version": "~2.1.4",
       "_view_module_version": "~2.1.4"
      }
     },
     "aaa611f14ca9464f965b12eee8171e99": {
      "model_module": "jupyter-js-widgets",
      "model_module_version": "~2.1.4",
      "model_name": "LayoutModel",
      "state": {
       "_model_module_version": "~2.1.4",
       "_view_module_version": "~2.1.4"
      }
     },
     "ac5de043ed794de9a4c139b9afec8bd4": {
      "model_module": "jupyter-js-widgets",
      "model_module_version": "~2.1.4",
      "model_name": "FloatSliderModel",
      "state": {
       "_model_module_version": "~2.1.4",
       "_view_module_version": "~2.1.4",
       "description": "a",
       "layout": "IPY_MODEL_841d8792d23d4017be6147a0f3475752",
       "max": 0.8,
       "min": 0.2,
       "step": 0.1,
       "value": 0.6
      }
     },
     "b189074f0fdd461f953a0987ef1e42f8": {
      "model_module": "jupyter-js-widgets",
      "model_module_version": "~2.1.4",
      "model_name": "VBoxModel",
      "state": {
       "_dom_classes": [
        "widget-interact"
       ],
       "_model_module_version": "~2.1.4",
       "_view_module_version": "~2.1.4",
       "children": [
        "IPY_MODEL_96255db2342349738bbed1f9405e1476",
        "IPY_MODEL_094f470f4f6649c68f88b6b27bbb7b60",
        "IPY_MODEL_d352a293d105466b81ee43216f957be2",
        "IPY_MODEL_24eb067952ba4aacbf45d9bcc873287f"
       ],
       "layout": "IPY_MODEL_5a61a5aa775c4883b4f4a863c653b312"
      }
     },
     "b7a75605705c4b3ab2744ce9decdc135": {
      "model_module": "jupyter-js-widgets",
      "model_module_version": "~2.1.4",
      "model_name": "VBoxModel",
      "state": {
       "_dom_classes": [
        "widget-interact"
       ],
       "_model_module_version": "~2.1.4",
       "_view_module_version": "~2.1.4",
       "children": [
        "IPY_MODEL_7b155e43bbc646d3b7909e0914db0e5c",
        "IPY_MODEL_d1c38f0064334042850c38a6db4c4fc4",
        "IPY_MODEL_ac5de043ed794de9a4c139b9afec8bd4",
        "IPY_MODEL_fa401d2be8de4b88adc42e05a5af1148"
       ],
       "layout": "IPY_MODEL_ba597629c2d541d9b92b725621bd3a70"
      }
     },
     "ba597629c2d541d9b92b725621bd3a70": {
      "model_module": "jupyter-js-widgets",
      "model_module_version": "~2.1.4",
      "model_name": "LayoutModel",
      "state": {
       "_model_module_version": "~2.1.4",
       "_view_module_version": "~2.1.4"
      }
     },
     "c26b25c962a349acbcb325368e268a2e": {
      "model_module": "jupyter-js-widgets",
      "model_module_version": "~2.1.4",
      "model_name": "LayoutModel",
      "state": {
       "_model_module_version": "~2.1.4",
       "_view_module_version": "~2.1.4"
      }
     },
     "c71b656a09e34e07b21dffbf7f7a8c32": {
      "model_module": "jupyter-js-widgets",
      "model_module_version": "~2.1.4",
      "model_name": "LayoutModel",
      "state": {
       "_model_module_version": "~2.1.4",
       "_view_module_version": "~2.1.4"
      }
     },
     "ccd858f84dff48108cfa82478a8a90ac": {
      "model_module": "jupyter-js-widgets",
      "model_module_version": "~2.1.4",
      "model_name": "LayoutModel",
      "state": {
       "_model_module_version": "~2.1.4",
       "_view_module_version": "~2.1.4"
      }
     },
     "d1c38f0064334042850c38a6db4c4fc4": {
      "model_module": "jupyter-js-widgets",
      "model_module_version": "~2.1.4",
      "model_name": "IntSliderModel",
      "state": {
       "_model_module_version": "~2.1.4",
       "_view_module_version": "~2.1.4",
       "description": "I",
       "layout": "IPY_MODEL_7d60aa3a65ec4e8f915255270e21264c",
       "max": 200,
       "min": 50,
       "step": 10,
       "style": "IPY_MODEL_3b47733435424f6bbfe981bafec7cc7b",
       "value": 170
      }
     },
     "d352a293d105466b81ee43216f957be2": {
      "model_module": "jupyter-js-widgets",
      "model_module_version": "~2.1.4",
      "model_name": "FloatSliderModel",
      "state": {
       "_model_module_version": "~2.1.4",
       "_view_module_version": "~2.1.4",
       "description": "a",
       "layout": "IPY_MODEL_3cc82ab9728647ed9fd526cb957de4ce",
       "max": 0.8,
       "min": 0.2,
       "step": 0.1,
       "value": 0.6
      }
     },
     "da75b08390004e2c8317cedf50737056": {
      "model_module": "jupyter-js-widgets",
      "model_module_version": "~2.1.4",
      "model_name": "OutputModel",
      "state": {
       "_dom_classes": [],
       "_model_module": "jupyter-js-widgets",
       "_model_module_version": "~2.1.4",
       "_view_module": "jupyter-js-widgets",
       "_view_module_version": "~2.1.4",
       "layout": "IPY_MODEL_6f3e6ebbb5b14de5b4741f27c30af70d",
       "msg_throttle": 1
      }
     },
     "dab93e5de107484fa107729cdbca4473": {
      "model_module": "jupyter-js-widgets",
      "model_module_version": "~2.1.4",
      "model_name": "LayoutModel",
      "state": {
       "_model_module_version": "~2.1.4",
       "_view_module_version": "~2.1.4"
      }
     },
     "dfe64a110cb446ee94636d474a470cd1": {
      "model_module": "jupyter-js-widgets",
      "model_module_version": "~2.1.4",
      "model_name": "OutputModel",
      "state": {
       "_dom_classes": [],
       "_model_module": "jupyter-js-widgets",
       "_model_module_version": "~2.1.4",
       "_view_module": "jupyter-js-widgets",
       "_view_module_version": "~2.1.4",
       "layout": "IPY_MODEL_4aeb78e887604375841ef96f9a7728db",
       "msg_throttle": 1
      }
     },
     "e28378ee5bf84286b498a7f6db9e67b8": {
      "model_module": "jupyter-js-widgets",
      "model_module_version": "~2.1.4",
      "model_name": "IntSliderModel",
      "state": {
       "_model_module_version": "~2.1.4",
       "_view_module_version": "~2.1.4",
       "description": "I",
       "layout": "IPY_MODEL_aaa611f14ca9464f965b12eee8171e99",
       "max": 150,
       "min": 50,
       "step": 10,
       "style": "IPY_MODEL_fc6d99b57cdb4a4194e75803db7f15b5",
       "value": 100
      }
     },
     "e43df0c97964468f9bc4f1a38d1665da": {
      "model_module": "jupyter-js-widgets",
      "model_module_version": "~2.1.4",
      "model_name": "LayoutModel",
      "state": {
       "_model_module_version": "~2.1.4",
       "_view_module_version": "~2.1.4"
      }
     },
     "eafcba014c0049528042824b9ae7ae2e": {
      "model_module": "jupyter-js-widgets",
      "model_module_version": "~2.1.4",
      "model_name": "OutputModel",
      "state": {
       "_dom_classes": [],
       "_model_module": "jupyter-js-widgets",
       "_model_module_version": "~2.1.4",
       "_view_module": "jupyter-js-widgets",
       "_view_module_version": "~2.1.4",
       "layout": "IPY_MODEL_7b97f59127f24b8c9e7a69bc6c57f29c",
       "msg_throttle": 1
      }
     },
     "ee282882f97849fba4b9859bfdb95465": {
      "model_module": "jupyter-js-widgets",
      "model_module_version": "~2.1.4",
      "model_name": "FloatSliderModel",
      "state": {
       "_model_module_version": "~2.1.4",
       "_view_module_version": "~2.1.4",
       "description": "p",
       "layout": "IPY_MODEL_394c09a8a68f48fbae8e234a22ff28b3",
       "max": 2,
       "min": 0.5,
       "step": 0.1,
       "value": 1.6
      }
     },
     "f131949f999542018f247d2cdb7dc291": {
      "model_module": "jupyter-js-widgets",
      "model_module_version": "~2.1.4",
      "model_name": "LayoutModel",
      "state": {
       "_model_module_version": "~2.1.4",
       "_view_module_version": "~2.1.4"
      }
     },
     "fa401d2be8de4b88adc42e05a5af1148": {
      "model_module": "jupyter-js-widgets",
      "model_module_version": "~2.1.4",
      "model_name": "OutputModel",
      "state": {
       "_dom_classes": [],
       "_model_module": "jupyter-js-widgets",
       "_model_module_version": "~2.1.4",
       "_view_module": "jupyter-js-widgets",
       "_view_module_version": "~2.1.4",
       "layout": "IPY_MODEL_5e5e4486f5bb4841adbeaf0636572275",
       "msg_throttle": 1
      }
     },
     "fc6d99b57cdb4a4194e75803db7f15b5": {
      "model_module": "jupyter-js-widgets",
      "model_module_version": "~2.1.4",
      "model_name": "SliderStyleModel",
      "state": {
       "_model_module_version": "~2.1.4",
       "_view_module_version": "~2.1.4"
      }
     },
     "fd0f770bb0a249a4a4be718eb0e3cddf": {
      "model_module": "jupyter-js-widgets",
      "model_module_version": "~2.1.4",
      "model_name": "VBoxModel",
      "state": {
       "_dom_classes": [
        "widget-interact"
       ],
       "_model_module_version": "~2.1.4",
       "_view_module_version": "~2.1.4",
       "children": [
        "IPY_MODEL_a5b7ef60f25d437692b5ba63c5bebe5a",
        "IPY_MODEL_e28378ee5bf84286b498a7f6db9e67b8",
        "IPY_MODEL_97fac39e6cd7495d88e3916ce199081f",
        "IPY_MODEL_20aaaeac7698408db5f08c6f8a71fe8d"
       ],
       "layout": "IPY_MODEL_909e6610225e4820a97ed5e37f6dbaff"
      }
     }
    },
    "version_major": 1,
    "version_minor": 0
   }
  }
 },
 "nbformat": 4,
 "nbformat_minor": 2
}
