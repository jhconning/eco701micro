{
 "cells": [
  {
   "cell_type": "markdown",
   "metadata": {},
   "source": [
    "<center>**Eco 701  Microeconomic Theory, Fall 2018** \n",
    "<center>Hunter College Economics</center> \n",
    "<center>Professor Jonathan Conning</center> \n",
    "\n",
    "<center>**Due: Thursday Sept 26 5:30pm**</center> \n",
    "\n",
    "\n",
    "***"
   ]
  },
  {
   "cell_type": "markdown",
   "metadata": {},
   "source": [
    "**Instructions:** Please carefully label your answers so that it is clear exactly what question \n",
    "you have answered in each section.  You may work and discuss these problems in study groups \n",
    "with others. You must however write up your solutions individually and indicate who else \n",
    "you worked with on the front of your completed problem set. "
   ]
  },
  {
   "cell_type": "markdown",
   "metadata": {},
   "source": [
    "**I.** Luz purchases food (measured by $x$) and clothing (measured by $y$) and has the utility function\n",
    "\n",
    "$$U(x,y) = xy$$\n",
    "\n",
    "She has a monthly income of $I=800$. The price of food is $p_X=20$ and the price of \n",
    "clothing is $p_Y=40$.\n",
    "\n",
    "  1.  Find expressions for Luz’s marginal utility of food and clothing.\n",
    "\n",
    "  2.  Draw a graph Luz’s budget line with clothing (y) on the vertical axis. Write\n",
    "    out the mathematical expression for this line. What is the slope of this\n",
    "    budget line and in what units is it measured? What interpretation do we give it\n",
    "    (i.e. what does the slope tell you)?\n",
    "\n",
    "  3.  What is Luz’s Marginal Rate of Substitution $MRS=\\frac{MU_X}{MU_Y}$ as a function of $x$\n",
    "    and $y$? In what units is this measured?"
   ]
  },
  {
   "cell_type": "markdown",
   "metadata": {},
   "source": [
    "  4. Show how to set up and solve for his optimal consumption bundle $(x^*,y^*)$,\n",
    "using each of the following methods (obviously you should get the same\n",
    "olution in each). I’m interested in seeing the steps involved in each of\n",
    "the following.\n",
    "\n",
    "     -  Using the **tangency method** or the knowledge that at an interior optimum the indifference curve must be \n",
    "tangent to the budget line.\n",
    "\n",
    "     -  Using the **substitution method** i.e. use the budget constraint to substitute for y in Luz’s utility function.\n",
    "\n",
    "     -  Using the **method of Lagrange**. Set up the lagrangian and show your work. What is the value of the Lagrange multiplier $\\lambda$? What economic interpretation does it have?"
   ]
  },
  {
   "cell_type": "markdown",
   "metadata": {},
   "source": [
    "5.  If you haven’t indicated this already (perhaps you calculated only numerical\n",
    "    results for the income and price levels above), express Luz’s consumer\n",
    "    demands as a function of any income *I* and set of prices *px* and *py*?  That is, derive the **Marshallian Demand functions** $X(p,I)$ and $Y(p,I)$ for any price vector $p=(p_X,p_Y)$ and income $I$)?\n",
    "\n",
    "  6.  What is the value of maximized utility at an optimum (i.e. $U(x^*,y^*)$)? Find this numerically and as a function of $p_X$, $p_Y$ and $I$?\n",
    "\n",
    "  7.  What would happen to the optimum $(x^*,y^*)$ if we changed the utility\n",
    "    function from $U(x,y) = xy$ to $U(x,y) = \\sqrt{xy}$? You don’t need to re-solve the whole problem (just look\n",
    "    at the new MRS, and then state your answer). What do you conclude? Would the\n",
    "    calculated value of the Lagrange multiplier change. Why?"
   ]
  },
  {
   "cell_type": "markdown",
   "metadata": {},
   "source": [
    "**II.** In the last problem Luz chose quantities of $x$ and $y$ to maximize utility\n",
    "subject to a budget constraint:\n",
    "\n",
    "$$\\max_{x, y} U(x, y)$$\n",
    "\n",
    "$$\\text{subject to   } p_X \\cdot x + p_Y \\cdot y = I$$\n",
    "\n",
    "\n",
    "Suppose that Luz’s problem was to **minimize** the expenditure needed to achieve a\n",
    "given level of utility $\\bar U$, i.e.:\n",
    "\n",
    "$$\\min_{x, y} p_X \\cdot x + p_Y $$\n",
    "\n",
    "$$\\text{subject to   } U(x, y) = \\bar U$$\n",
    "\n",
    "\n",
    "This is called the **expenditure minimization problem**.\n",
    "\n",
    "1.  How might you solve this problem? Use whatever economic reasoning or\n",
    "    optimization method you prefer, but show your work (assume again $U(x, y)=xy$).\n",
    "\n",
    "2.  What do you think will be the optimum bundle $(x^*,y^*)$ if $\\bar U$ was set to the\n",
    "    maximized utility value you found in part I.6 of the last problem? Explain."
   ]
  },
  {
   "cell_type": "markdown",
   "metadata": {},
   "source": [
    "**III.**  The following is problem is a constrained optimization problem with *two* constraints. Additional hints and discussion in class.\n",
    "\n",
    "Following a large earthquake in Mexico you work with a foundation to raise donations \n",
    "for assistance to hardest-hit isolated towns in Chiapas.  You collect \n",
    "US$\\$100,000$ in donations to buy relief supplies which will be trucked in over damaged \n",
    "roads. \n",
    "\n",
    "In consultation with local leaders and health experts you’ve decided to buy a combination of Food \n",
    "and (electrolyte) Water relief supplies. Food ($c_F$) can be purchased at $P_F= \\$1000$ \n",
    "per ton and vitamin-enriched water bottles ($c_W$) can be\n",
    "purchased at $P_W= \\$2000$ per ton. \n",
    "\n",
    "Your consultations have lead you to believe that food and water are complements\n",
    "and your aid will have the greatest impact if you maximize the objective:\n",
    "\n",
    "$$U(c_F, c_W) = c_F \\cdot c_W$$\n",
    "\n",
    "You face two constraints. The first is monetary: you cannot spend more than your organization’s \n",
    "budget of $I = \\$100,000$.  The second constraint is that you only have truck cargo capacity \n",
    "to carry T=80 tons across the damaged roads.  \n",
    "\n",
    "  1.  Write out a Lagrangian for the problem. Label the multiplier on the budget\n",
    "    constraint $\\lambda$ and the multiplier on the boat capacity constraint $\\mu$. What\n",
    "    interpretation does each of these multipliers have?\n",
    "\n",
    "  2.  Draw a graph of the constraints (for the parameters given above) and identify the \n",
    "   feasible solution region where both constraints are satisfied. Use this diagram to think \n",
    "   about the three possible solution scenarios: where one or the other or both\n",
    "    constraints bind at an optimum (i.e. where {λ\\>0,µ=0}, {λ=0,µ\\>0} or\n",
    "    {λ\\>0,µ\\>0}).\n",
    "\n",
    "  3.  Separately find the solution under each of these scenarios (i.e. at first assume only \n",
    "  the budget constraint binds {λ\\>0,µ=0} and find a solution; next assume instead that only the\n",
    "    tonnage constraint binds{λ=0,µ\\>0} and solve again, and finally solve when both\n",
    "    constraints bind {λ\\>0,µ\\>0}). Compare the value of the objective function\n",
    "    in each of these scenarios. Which gives the highest value of the objective function?  You must still \n",
    "    check whether each of these solutions is in fact feasible (for example if you've assumed that only the\n",
    "    tonnage constraint binds, does your solution in fact also satisfy the budget constraint as you have \n",
    "    implicitly assumed, etc?  What, in the end is the optimal amount water and food to send? Which constraints \n",
    "    bind at this optimum? Interpret and please show the steps involved in solving this problem."
   ]
  },
  {
   "cell_type": "markdown",
   "metadata": {},
   "source": [
    "**IV.** Robinson Crusoe is stranded on a desert island. He barely subsists by eating only coconuts and fish. Indeed these are the only two things he cares about in life.\n",
    "\n",
    "His production technology is as follows. If he works for $L_X$ hours climbing\n",
    "trees he harvests $x=\\sqrt{A_X} \\cdot \\sqrt{L_X}$ coconuts where $A_X=1$. If he works for $L_Y$ \n",
    "hours fishing he catches $y= \\sqrt{L_Y}$ fish.  "
   ]
  },
  {
   "cell_type": "markdown",
   "metadata": {},
   "source": [
    "Note that we can invert the production function to find minimum labor input requirements.  To produce $x$ we require $L_X =\\frac{1}{A_X}\\cdot x^2$ units of labor and to produce $y$ we require $L_Y =y^2$ units of labor. "
   ]
  },
  {
   "cell_type": "markdown",
   "metadata": {},
   "source": [
    "He can however work only up to $\\bar L = 100$ hours a\n",
    "week (otherwise he drops dead from exhaustion). His time resource constraint is\n",
    "therefore given by the following constraint."
   ]
  },
  {
   "cell_type": "markdown",
   "metadata": {},
   "source": [
    "$$L_X + L_Y = \\bar L  $$\n",
    "or\n",
    "$$\\frac{x^2}{A_X}  + y^2 = 100 $$\n",
    "\n",
    "His utility is given by \n",
    "\n",
    "$$U(x,y) = a \\cdot x + b \\cdot y$$\n",
    "\n",
    "where $x$ is the quantity of coconuts consumed, and $y$ is the quantity of fish consumed.  Note this implies straight line indifference curves (fish and coconuts are perfect substitutes in consumption)."
   ]
  },
  {
   "cell_type": "markdown",
   "metadata": {},
   "source": [
    "1.  Use the two production technologies and the labor resource constraint to derive an expression for  Robinson's production possibility frontier for this economy (substitute . Graph this with output $x$ of coconuts on the horizontal axis.\n",
    "  \n",
    "2. Derive an expression for the marginal rate of transformation (MRT) -- the slope along this frontier. This   gives the opportunity cost of producing one more coconut (one more unit of $x$) measured in terms of how many fish (how much $y$ must be given up) starting from any initial value of $x$ along the PPF. \n",
    "\n",
    "3.  Set up the Lagrangian for solving for Robinson’s optimal consumption bundle $(x^*, y^*)$.  Try to solve for this consumption bundle as a function of the economy's parameters. Then  solve for the optimum numerically by assuming preference parameters $a=1$ and $b=1$. \n",
    "  \n",
    "4.  Draw an approximate representation of this economy and Robinson's production and consumption optimum. Indicate both the production possibility frontier and one or more of Robinson’s indifference curves (including one that passes through the optimum).\n",
    "\n",
    "5. Suppose that Robinson’s productivity (output per hour) in *coconut\n",
    "    harvesting* improved as $A_X$ rises from $A_X=1$ to $A_X=2$ while his productivity at  *fishing* remains unchanged. Indicate graphically how the production possibility frontier shifts out and how his optimum changes. Explain in words what has happened (including why he can now enjoy more fish and more coconuts even though it’s only the *coconut* technology that has improved.\n",
    "\n",
    "6.  What is the new optimum production and consumption bundle?\n",
    "\n",
    "7.  We can think of *a* and *b* as weights in Robinson’s utility function.    Returning to the original solution in part (b). If both *a* and *b* were     doubled, what would happen to (x\\*, y\\*)? Explain. What would happen if we     multiplied both *a* and *b* by ?"
   ]
  },
  {
   "cell_type": "markdown",
   "metadata": {},
   "source": [
    "**V.**  Consider the following utility functions over non-negative consumption bundles:\n",
    "\n",
    "  1.  $U(x, y) = xy$\n",
    "\n",
    "  2.  $U(x, y) = x^2 y^2$\n",
    "\n",
    "  3.   $U(x, y) = \\ln(x) + \\ln(y)$\n",
    "\n",
    "Show that each of these preference mappings is associated with diminishing Marginal Rate of Substitution (MRS), \n",
    "but that these exhibit constant, increasing, and decreasing marginal utility, respectively. \n",
    "\n",
    "Draw representative indifference curves (Hint: to graph the U=100 indifference curve use $U(x,y) =100$ to solve for $y$\n",
    "in terms of $x$, and then graph this function.)"
   ]
  },
  {
   "cell_type": "markdown",
   "metadata": {},
   "source": [
    "(One more short game theory question to be added)"
   ]
  }
 ],
 "metadata": {
  "hide_input": false,
  "kernelspec": {
   "display_name": "Python 3",
   "language": "python",
   "name": "python3"
  },
  "language_info": {
   "codemirror_mode": {
    "name": "ipython",
    "version": 3
   },
   "file_extension": ".py",
   "mimetype": "text/x-python",
   "name": "python",
   "nbconvert_exporter": "python",
   "pygments_lexer": "ipython3",
   "version": "3.6.6"
  },
  "varInspector": {
   "cols": {
    "lenName": 16,
    "lenType": 16,
    "lenVar": 40
   },
   "kernels_config": {
    "python": {
     "delete_cmd_postfix": "",
     "delete_cmd_prefix": "del ",
     "library": "var_list.py",
     "varRefreshCmd": "print(var_dic_list())"
    },
    "r": {
     "delete_cmd_postfix": ") ",
     "delete_cmd_prefix": "rm(",
     "library": "var_list.r",
     "varRefreshCmd": "cat(var_dic_list()) "
    }
   },
   "types_to_exclude": [
    "module",
    "function",
    "builtin_function_or_method",
    "instance",
    "_Feature"
   ],
   "window_display": false
  }
 },
 "nbformat": 4,
 "nbformat_minor": 2
}
